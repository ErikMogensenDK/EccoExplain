{
 "cells": [
  {
   "attachments": {},
   "cell_type": "markdown",
   "id": "98d22aea",
   "metadata": {},
   "source": [
    "### What is the sentiment of this film review?"
   ]
  },
  {
   "cell_type": "code",
   "execution_count": 1,
   "id": "303edda7",
   "metadata": {},
   "outputs": [
    {
     "name": "stdout",
     "output_type": "stream",
     "text": [
      "Requirement already satisfied: ecco in c:\\users\\erikm\\appdata\\local\\packages\\pythonsoftwarefoundation.python.3.9_qbz5n2kfra8p0\\localcache\\local-packages\\python39\\site-packages (0.1.2)\n",
      "Requirement already satisfied: transformers~=4.2 in c:\\users\\erikm\\appdata\\local\\packages\\pythonsoftwarefoundation.python.3.9_qbz5n2kfra8p0\\localcache\\local-packages\\python39\\site-packages (from ecco) (4.21.1)\n",
      "Requirement already satisfied: seaborn~=0.11 in c:\\users\\erikm\\appdata\\local\\packages\\pythonsoftwarefoundation.python.3.9_qbz5n2kfra8p0\\localcache\\local-packages\\python39\\site-packages (from ecco) (0.12.2)\n",
      "Requirement already satisfied: scikit-learn~=0.23 in c:\\users\\erikm\\appdata\\local\\packages\\pythonsoftwarefoundation.python.3.9_qbz5n2kfra8p0\\localcache\\local-packages\\python39\\site-packages (from ecco) (0.24.2)\n",
      "Requirement already satisfied: PyYAML~=5.4 in c:\\users\\erikm\\appdata\\local\\packages\\pythonsoftwarefoundation.python.3.9_qbz5n2kfra8p0\\localcache\\local-packages\\python39\\site-packages (from ecco) (5.4.1)\n",
      "Requirement already satisfied: captum~=0.4 in c:\\users\\erikm\\appdata\\local\\packages\\pythonsoftwarefoundation.python.3.9_qbz5n2kfra8p0\\localcache\\local-packages\\python39\\site-packages (from ecco) (0.5.0)\n",
      "Requirement already satisfied: matplotlib in c:\\users\\erikm\\appdata\\local\\packages\\pythonsoftwarefoundation.python.3.9_qbz5n2kfra8p0\\localcache\\local-packages\\python39\\site-packages (from captum~=0.4->ecco) (3.6.0)\n",
      "Requirement already satisfied: numpy in c:\\users\\erikm\\appdata\\local\\packages\\pythonsoftwarefoundation.python.3.9_qbz5n2kfra8p0\\localcache\\local-packages\\python39\\site-packages (from captum~=0.4->ecco) (1.22.4)\n",
      "Requirement already satisfied: torch>=1.6 in c:\\users\\erikm\\appdata\\local\\packages\\pythonsoftwarefoundation.python.3.9_qbz5n2kfra8p0\\localcache\\local-packages\\python39\\site-packages (from captum~=0.4->ecco) (1.12.1)\n",
      "Requirement already satisfied: scipy>=0.19.1 in c:\\users\\erikm\\appdata\\local\\packages\\pythonsoftwarefoundation.python.3.9_qbz5n2kfra8p0\\localcache\\local-packages\\python39\\site-packages (from scikit-learn~=0.23->ecco) (1.7.1)\n",
      "Requirement already satisfied: joblib>=0.11 in c:\\users\\erikm\\appdata\\local\\packages\\pythonsoftwarefoundation.python.3.9_qbz5n2kfra8p0\\localcache\\local-packages\\python39\\site-packages (from scikit-learn~=0.23->ecco) (1.0.1)\n",
      "Requirement already satisfied: threadpoolctl>=2.0.0 in c:\\users\\erikm\\appdata\\local\\packages\\pythonsoftwarefoundation.python.3.9_qbz5n2kfra8p0\\localcache\\local-packages\\python39\\site-packages (from scikit-learn~=0.23->ecco) (2.2.0)\n",
      "Requirement already satisfied: pandas>=0.25 in c:\\users\\erikm\\appdata\\local\\packages\\pythonsoftwarefoundation.python.3.9_qbz5n2kfra8p0\\localcache\\local-packages\\python39\\site-packages (from seaborn~=0.11->ecco) (1.4.3)\n",
      "Requirement already satisfied: filelock in c:\\users\\erikm\\appdata\\local\\packages\\pythonsoftwarefoundation.python.3.9_qbz5n2kfra8p0\\localcache\\local-packages\\python39\\site-packages (from transformers~=4.2->ecco) (3.7.0)\n",
      "Requirement already satisfied: huggingface-hub<1.0,>=0.1.0 in c:\\users\\erikm\\appdata\\local\\packages\\pythonsoftwarefoundation.python.3.9_qbz5n2kfra8p0\\localcache\\local-packages\\python39\\site-packages (from transformers~=4.2->ecco) (0.14.1)\n",
      "Requirement already satisfied: packaging>=20.0 in c:\\users\\erikm\\appdata\\local\\packages\\pythonsoftwarefoundation.python.3.9_qbz5n2kfra8p0\\localcache\\local-packages\\python39\\site-packages (from transformers~=4.2->ecco) (21.0)\n",
      "Requirement already satisfied: regex!=2019.12.17 in c:\\users\\erikm\\appdata\\local\\packages\\pythonsoftwarefoundation.python.3.9_qbz5n2kfra8p0\\localcache\\local-packages\\python39\\site-packages (from transformers~=4.2->ecco) (2022.4.24)\n",
      "Requirement already satisfied: requests in c:\\users\\erikm\\appdata\\local\\packages\\pythonsoftwarefoundation.python.3.9_qbz5n2kfra8p0\\localcache\\local-packages\\python39\\site-packages (from transformers~=4.2->ecco) (2.28.1)\n",
      "Requirement already satisfied: tokenizers!=0.11.3,<0.13,>=0.11.1 in c:\\users\\erikm\\appdata\\local\\packages\\pythonsoftwarefoundation.python.3.9_qbz5n2kfra8p0\\localcache\\local-packages\\python39\\site-packages (from transformers~=4.2->ecco) (0.12.1)\n",
      "Requirement already satisfied: tqdm>=4.27 in c:\\users\\erikm\\appdata\\local\\packages\\pythonsoftwarefoundation.python.3.9_qbz5n2kfra8p0\\localcache\\local-packages\\python39\\site-packages (from transformers~=4.2->ecco) (4.62.2)\n",
      "Requirement already satisfied: fsspec in c:\\users\\erikm\\appdata\\local\\packages\\pythonsoftwarefoundation.python.3.9_qbz5n2kfra8p0\\localcache\\local-packages\\python39\\site-packages (from huggingface-hub<1.0,>=0.1.0->transformers~=4.2->ecco) (2022.8.2)\n",
      "Requirement already satisfied: typing-extensions>=3.7.4.3 in c:\\users\\erikm\\appdata\\local\\packages\\pythonsoftwarefoundation.python.3.9_qbz5n2kfra8p0\\localcache\\local-packages\\python39\\site-packages (from huggingface-hub<1.0,>=0.1.0->transformers~=4.2->ecco) (4.4.0)\n",
      "Requirement already satisfied: contourpy>=1.0.1 in c:\\users\\erikm\\appdata\\local\\packages\\pythonsoftwarefoundation.python.3.9_qbz5n2kfra8p0\\localcache\\local-packages\\python39\\site-packages (from matplotlib->captum~=0.4->ecco) (1.0.5)\n",
      "Requirement already satisfied: cycler>=0.10 in c:\\users\\erikm\\appdata\\local\\packages\\pythonsoftwarefoundation.python.3.9_qbz5n2kfra8p0\\localcache\\local-packages\\python39\\site-packages (from matplotlib->captum~=0.4->ecco) (0.10.0)\n",
      "Requirement already satisfied: fonttools>=4.22.0 in c:\\users\\erikm\\appdata\\local\\packages\\pythonsoftwarefoundation.python.3.9_qbz5n2kfra8p0\\localcache\\local-packages\\python39\\site-packages (from matplotlib->captum~=0.4->ecco) (4.37.3)\n",
      "Requirement already satisfied: kiwisolver>=1.0.1 in c:\\users\\erikm\\appdata\\local\\packages\\pythonsoftwarefoundation.python.3.9_qbz5n2kfra8p0\\localcache\\local-packages\\python39\\site-packages (from matplotlib->captum~=0.4->ecco) (1.3.2)\n",
      "Requirement already satisfied: pillow>=6.2.0 in c:\\users\\erikm\\appdata\\local\\packages\\pythonsoftwarefoundation.python.3.9_qbz5n2kfra8p0\\localcache\\local-packages\\python39\\site-packages (from matplotlib->captum~=0.4->ecco) (9.2.0)\n",
      "Requirement already satisfied: pyparsing>=2.2.1 in c:\\users\\erikm\\appdata\\local\\packages\\pythonsoftwarefoundation.python.3.9_qbz5n2kfra8p0\\localcache\\local-packages\\python39\\site-packages (from matplotlib->captum~=0.4->ecco) (2.4.7)\n",
      "Requirement already satisfied: python-dateutil>=2.7 in c:\\users\\erikm\\appdata\\local\\packages\\pythonsoftwarefoundation.python.3.9_qbz5n2kfra8p0\\localcache\\local-packages\\python39\\site-packages (from matplotlib->captum~=0.4->ecco) (2.8.2)\n",
      "Requirement already satisfied: pytz>=2020.1 in c:\\users\\erikm\\appdata\\local\\packages\\pythonsoftwarefoundation.python.3.9_qbz5n2kfra8p0\\localcache\\local-packages\\python39\\site-packages (from pandas>=0.25->seaborn~=0.11->ecco) (2021.1)\n",
      "Requirement already satisfied: colorama in c:\\users\\erikm\\appdata\\local\\packages\\pythonsoftwarefoundation.python.3.9_qbz5n2kfra8p0\\localcache\\local-packages\\python39\\site-packages (from tqdm>=4.27->transformers~=4.2->ecco) (0.4.4)\n",
      "Requirement already satisfied: charset-normalizer<3,>=2 in c:\\users\\erikm\\appdata\\local\\packages\\pythonsoftwarefoundation.python.3.9_qbz5n2kfra8p0\\localcache\\local-packages\\python39\\site-packages (from requests->transformers~=4.2->ecco) (2.0.4)\n",
      "Requirement already satisfied: idna<4,>=2.5 in c:\\users\\erikm\\appdata\\local\\packages\\pythonsoftwarefoundation.python.3.9_qbz5n2kfra8p0\\localcache\\local-packages\\python39\\site-packages (from requests->transformers~=4.2->ecco) (3.2)\n",
      "Requirement already satisfied: urllib3<1.27,>=1.21.1 in c:\\users\\erikm\\appdata\\local\\packages\\pythonsoftwarefoundation.python.3.9_qbz5n2kfra8p0\\localcache\\local-packages\\python39\\site-packages (from requests->transformers~=4.2->ecco) (1.26.6)\n",
      "Requirement already satisfied: certifi>=2017.4.17 in c:\\users\\erikm\\appdata\\local\\packages\\pythonsoftwarefoundation.python.3.9_qbz5n2kfra8p0\\localcache\\local-packages\\python39\\site-packages (from requests->transformers~=4.2->ecco) (2021.5.30)\n",
      "Requirement already satisfied: six in c:\\users\\erikm\\appdata\\local\\packages\\pythonsoftwarefoundation.python.3.9_qbz5n2kfra8p0\\localcache\\local-packages\\python39\\site-packages (from cycler>=0.10->matplotlib->captum~=0.4->ecco) (1.16.0)\n"
     ]
    },
    {
     "name": "stderr",
     "output_type": "stream",
     "text": [
      "Downloading tokenizer_config.json: 100%|██████████| 2.27k/2.27k [00:00<00:00, 580kB/s]\n",
      "Downloading spiece.model: 100%|██████████| 773k/773k [00:00<00:00, 938kB/s] \n",
      "Downloading tokenizer.json: 100%|██████████| 1.32M/1.32M [00:00<00:00, 1.53MB/s]\n",
      "Downloading config.json: 100%|██████████| 1.18k/1.18k [00:00<00:00, 241kB/s]\n",
      "Downloading pytorch_model.bin: 100%|██████████| 231M/231M [02:07<00:00, 1.89MB/s] \n"
     ]
    },
    {
     "data": {
      "text/html": [
       "<html lang=\"en\">\n",
       "<script src=\"https://requirejs.org/docs/release/2.3.6/minified/require.js\"></script>\n",
       "<script>\n",
       "    var ecco_url = 'https://storage.googleapis.com/ml-intro/ecco/'\n",
       "    //var ecco_url = 'http://localhost:8000/'\n",
       "\n",
       "    if (window.ecco === undefined) window.ecco = {}\n",
       "\n",
       "    // Setup the paths of the script we'll be using\n",
       "    requirejs.config({\n",
       "        urlArgs: \"bust=\" + (new Date()).getTime(),\n",
       "        nodeRequire: require,\n",
       "        paths: {\n",
       "            d3: \"https://d3js.org/d3.v6.min\", // This is only for use in setup.html and basic.html\n",
       "            \"d3-array\": \"https://d3js.org/d3-array.v2.min\",\n",
       "            jquery: \"https://code.jquery.com/jquery-3.5.1.min\",\n",
       "            ecco: ecco_url + 'js/0.0.6/ecco-bundle.min',\n",
       "            xregexp: 'https://cdnjs.cloudflare.com/ajax/libs/xregexp/3.2.0/xregexp-all.min'\n",
       "        }\n",
       "    });\n",
       "\n",
       "    // Add the css file\n",
       "    //requirejs(['d3'],\n",
       "    //    function (d3) {\n",
       "    //        d3.select('#css').attr('href', ecco_url + 'html/styles.css')\n",
       "    //    })\n",
       "\n",
       "    console.log('Ecco initialize!!')\n",
       "\n",
       "    // returns a 'basic' object. basic.init() selects the html div we'll be\n",
       "    // rendering the html into, adds styles.css to the document.\n",
       "    define('basic', ['d3'],\n",
       "        function (d3) {\n",
       "            return {\n",
       "                init: function (viz_id = null) {\n",
       "                    if (viz_id == null) {\n",
       "                        viz_id = \"viz_\" + Math.round(Math.random() * 10000000)\n",
       "                    }\n",
       "                    // Select the div rendered below, change its id\n",
       "                    const div = d3.select('#basic').attr('id', viz_id),\n",
       "                        div_parent = d3.select('#' + viz_id).node().parentNode\n",
       "\n",
       "                    // Link to CSS file\n",
       "                    d3.select(div_parent).insert('link')\n",
       "                        .attr('rel', 'stylesheet')\n",
       "                        .attr('type', 'text/css')\n",
       "                        .attr('href', ecco_url + 'html/0.0.2/styles.css')\n",
       "\n",
       "                    return viz_id\n",
       "                }\n",
       "            }\n",
       "        }, function (err) {\n",
       "            console.log(err);\n",
       "        }\n",
       "    )\n",
       "</script>\n",
       "\n",
       "<head>\n",
       "    <link id='css' rel=\"stylesheet\" type=\"text/css\">\n",
       "</head>\n",
       "<div id=\"basic\"></div>\n"
      ],
      "text/plain": [
       "<IPython.core.display.HTML object>"
      ]
     },
     "metadata": {},
     "output_type": "display_data"
    },
    {
     "data": {
      "application/javascript": "\n         requirejs( ['basic', 'ecco'], function(basic, ecco){\n            basic.init('viz_216174') // Python needs to know the viz id. Used for each output token.\n            window.ecco['viz_216174'] = new ecco.renderOutputSequence({\n                    parentDiv: 'viz_216174',\n                    data: {\"tokens\": [{\"token\": \"\", \"is_partial\": false, \"position\": 0, \"token_id\": 3, \"type\": \"input\"}, {\"token\": \"s\", \"is_partial\": true, \"position\": 1, \"token_id\": 7, \"type\": \"input\"}, {\"token\": \"s\", \"is_partial\": true, \"position\": 2, \"token_id\": 7, \"type\": \"input\"}, {\"token\": \"t\", \"is_partial\": true, \"position\": 3, \"token_id\": 17, \"type\": \"input\"}, {\"token\": \"2\", \"is_partial\": true, \"position\": 4, \"token_id\": 357, \"type\": \"input\"}, {\"token\": \"sentence\", \"is_partial\": false, \"position\": 5, \"token_id\": 7142, \"type\": \"input\"}, {\"token\": \":\", \"is_partial\": true, \"position\": 6, \"token_id\": 10, \"type\": \"input\"}, {\"token\": \"Den\", \"is_partial\": false, \"position\": 7, \"token_id\": 3128, \"type\": \"input\"}, {\"token\": \"is\", \"is_partial\": true, \"position\": 8, \"token_id\": 159, \"type\": \"input\"}, {\"token\": \"Ville\", \"is_partial\": false, \"position\": 9, \"token_id\": 15626, \"type\": \"input\"}, {\"token\": \"neuve\", \"is_partial\": true, \"position\": 10, \"token_id\": 26445, \"type\": \"input\"}, {\"token\": \"'\", \"is_partial\": true, \"position\": 11, \"token_id\": 31, \"type\": \"input\"}, {\"token\": \"s\", \"is_partial\": true, \"position\": 12, \"token_id\": 7, \"type\": \"input\"}, {\"token\": \"Dun\", \"is_partial\": false, \"position\": 13, \"token_id\": 6393, \"type\": \"input\"}, {\"token\": \"e\", \"is_partial\": true, \"position\": 14, \"token_id\": 15, \"type\": \"input\"}, {\"token\": \"looks\", \"is_partial\": false, \"position\": 15, \"token_id\": 1416, \"type\": \"input\"}, {\"token\": \"and\", \"is_partial\": false, \"position\": 16, \"token_id\": 11, \"type\": \"input\"}, {\"token\": \"sounds\", \"is_partial\": false, \"position\": 17, \"token_id\": 2993, \"type\": \"input\"}, {\"token\": \"amazing\", \"is_partial\": false, \"position\": 18, \"token_id\": 1237, \"type\": \"input\"}, {\"token\": \"--\", \"is_partial\": false, \"position\": 19, \"token_id\": 1636, \"type\": \"input\"}, {\"token\": \"and\", \"is_partial\": false, \"position\": 20, \"token_id\": 11, \"type\": \"input\"}, {\"token\": \"once\", \"is_partial\": false, \"position\": 21, \"token_id\": 728, \"type\": \"input\"}, {\"token\": \"the\", \"is_partial\": false, \"position\": 22, \"token_id\": 8, \"type\": \"input\"}, {\"token\": \"(\", \"is_partial\": false, \"position\": 23, \"token_id\": 41, \"type\": \"input\"}, {\"token\": \"a\", \"is_partial\": true, \"position\": 24, \"token_id\": 9, \"type\": \"input\"}, {\"token\": \"d\", \"is_partial\": true, \"position\": 25, \"token_id\": 26, \"type\": \"input\"}, {\"token\": \"mitted\", \"is_partial\": true, \"position\": 26, \"token_id\": 16030, \"type\": \"input\"}, {\"token\": \"ly\", \"is_partial\": true, \"position\": 27, \"token_id\": 120, \"type\": \"input\"}, {\"token\": \"slow\", \"is_partial\": false, \"position\": 28, \"token_id\": 2684, \"type\": \"input\"}, {\"token\": \"-\", \"is_partial\": true, \"position\": 29, \"token_id\": 18, \"type\": \"input\"}, {\"token\": \"building\", \"is_partial\": true, \"position\": 30, \"token_id\": 10905, \"type\": \"input\"}, {\"token\": \")\", \"is_partial\": true, \"position\": 31, \"token_id\": 61, \"type\": \"input\"}, {\"token\": \"story\", \"is_partial\": false, \"position\": 32, \"token_id\": 733, \"type\": \"input\"}, {\"token\": \"gets\", \"is_partial\": false, \"position\": 33, \"token_id\": 2347, \"type\": \"input\"}, {\"token\": \"you\", \"is_partial\": false, \"position\": 34, \"token_id\": 25, \"type\": \"input\"}, {\"token\": \"hooked\", \"is_partial\": false, \"position\": 35, \"token_id\": 20949, \"type\": \"input\"}, {\"token\": \",\", \"is_partial\": true, \"position\": 36, \"token_id\": 6, \"type\": \"input\"}, {\"token\": \"you\", \"is_partial\": false, \"position\": 37, \"token_id\": 25, \"type\": \"input\"}, {\"token\": \"'\", \"is_partial\": true, \"position\": 38, \"token_id\": 31, \"type\": \"input\"}, {\"token\": \"ll\", \"is_partial\": true, \"position\": 39, \"token_id\": 195, \"type\": \"input\"}, {\"token\": \"be\", \"is_partial\": false, \"position\": 40, \"token_id\": 36, \"type\": \"input\"}, {\"token\": \"on\", \"is_partial\": false, \"position\": 41, \"token_id\": 30, \"type\": \"input\"}, {\"token\": \"the\", \"is_partial\": false, \"position\": 42, \"token_id\": 8, \"type\": \"input\"}, {\"token\": \"edge\", \"is_partial\": false, \"position\": 43, \"token_id\": 3023, \"type\": \"input\"}, {\"token\": \"of\", \"is_partial\": false, \"position\": 44, \"token_id\": 13, \"type\": \"input\"}, {\"token\": \"your\", \"is_partial\": false, \"position\": 45, \"token_id\": 39, \"type\": \"input\"}, {\"token\": \"seat\", \"is_partial\": false, \"position\": 46, \"token_id\": 3143, \"type\": \"input\"}, {\"token\": \"for\", \"is_partial\": false, \"position\": 47, \"token_id\": 21, \"type\": \"input\"}, {\"token\": \"the\", \"is_partial\": false, \"position\": 48, \"token_id\": 8, \"type\": \"input\"}, {\"token\": \"sequel\", \"is_partial\": false, \"position\": 49, \"token_id\": 19826, \"type\": \"input\"}, {\"token\": \".\", \"is_partial\": true, \"position\": 50, \"token_id\": 5, \"type\": \"input\"}, {\"token\": \"</s>\", \"is_partial\": true, \"position\": 51, \"token_id\": 1, \"type\": \"input\"}]},\n                    tokenization_config: {\"token_prefix\": \"\\u2581\", \"partial_token_prefix\": \"\"}\n            \n            })\n         }, function (err) {\n            console.log(err);\n        })\n        ",
      "text/plain": [
       "<IPython.core.display.Javascript object>"
      ]
     },
     "metadata": {},
     "output_type": "display_data"
    },
    {
     "data": {
      "application/javascript": "\n        // We don't really need these require scripts. But this is to avert\n        //this code from running before display_input_sequence which DOES require external files\n        requirejs(['basic', 'ecco'], function(basic, ecco){\n                console.log('addToken viz_id', 'viz_216174');\n                window.ecco['viz_216174'].addToken({\"token\": \"<pad>\", \"is_partial\": true, \"token_id\": 0, \"position\": 52, \"type\": \"output\"})\n                window.ecco['viz_216174'].redraw()\n        })\n        ",
      "text/plain": [
       "<IPython.core.display.Javascript object>"
      ]
     },
     "metadata": {},
     "output_type": "display_data"
    },
    {
     "data": {
      "application/javascript": "\n        // We don't really need these require scripts. But this is to avert\n        //this code from running before display_input_sequence which DOES require external files\n        requirejs(['basic', 'ecco'], function(basic, ecco){\n                console.log('addToken viz_id', 'viz_216174');\n                window.ecco['viz_216174'].addToken({\"token\": \"positive\", \"is_partial\": false, \"token_id\": 1465, \"position\": 52, \"type\": \"output\"})\n                window.ecco['viz_216174'].redraw()\n        })\n        ",
      "text/plain": [
       "<IPython.core.display.Javascript object>"
      ]
     },
     "metadata": {},
     "output_type": "display_data"
    }
   ],
   "source": [
    "!pip install ecco\n",
    "import ecco\n",
    "\n",
    "lm = ecco.from_pretrained('t5-small')\n",
    "review=\"\"\"Denis Villeneuve's Dune looks and sounds amazing -- and once the \n",
    "(admittedly slow-building) story gets you hooked, you'll be on the edge \n",
    "of your seat for the sequel.\"\"\"\n",
    "\n",
    "output = lm.generate(f\"sst2 sentence: {review}\", generate=1, do_sample=False)"
   ]
  },
  {
   "attachments": {},
   "cell_type": "markdown",
   "id": "841af8d6",
   "metadata": {},
   "source": [
    "\n",
    "Use a large language model (T5 in this case) to detect text sentiment. In addition to the sentiment, see the tokens the model broke the text into (which can help debug some edge cases).\n",
    "\n",
    "### Which words in this review lead the model to classify its sentiment as \"negative\"?"
   ]
  },
  {
   "cell_type": "code",
   "execution_count": 2,
   "id": "2ccc9007",
   "metadata": {},
   "outputs": [
    {
     "data": {
      "text/html": [
       "<html lang=\"en\">\n",
       "<script src=\"https://requirejs.org/docs/release/2.3.6/minified/require.js\"></script>\n",
       "<script>\n",
       "    var ecco_url = 'https://storage.googleapis.com/ml-intro/ecco/'\n",
       "    //var ecco_url = 'http://localhost:8000/'\n",
       "\n",
       "    if (window.ecco === undefined) window.ecco = {}\n",
       "\n",
       "    // Setup the paths of the script we'll be using\n",
       "    requirejs.config({\n",
       "        urlArgs: \"bust=\" + (new Date()).getTime(),\n",
       "        nodeRequire: require,\n",
       "        paths: {\n",
       "            d3: \"https://d3js.org/d3.v6.min\", // This is only for use in setup.html and basic.html\n",
       "            \"d3-array\": \"https://d3js.org/d3-array.v2.min\",\n",
       "            jquery: \"https://code.jquery.com/jquery-3.5.1.min\",\n",
       "            ecco: ecco_url + 'js/0.0.6/ecco-bundle.min',\n",
       "            xregexp: 'https://cdnjs.cloudflare.com/ajax/libs/xregexp/3.2.0/xregexp-all.min'\n",
       "        }\n",
       "    });\n",
       "\n",
       "    // Add the css file\n",
       "    //requirejs(['d3'],\n",
       "    //    function (d3) {\n",
       "    //        d3.select('#css').attr('href', ecco_url + 'html/styles.css')\n",
       "    //    })\n",
       "\n",
       "    console.log('Ecco initialize!!')\n",
       "\n",
       "    // returns a 'basic' object. basic.init() selects the html div we'll be\n",
       "    // rendering the html into, adds styles.css to the document.\n",
       "    define('basic', ['d3'],\n",
       "        function (d3) {\n",
       "            return {\n",
       "                init: function (viz_id = null) {\n",
       "                    if (viz_id == null) {\n",
       "                        viz_id = \"viz_\" + Math.round(Math.random() * 10000000)\n",
       "                    }\n",
       "                    // Select the div rendered below, change its id\n",
       "                    const div = d3.select('#basic').attr('id', viz_id),\n",
       "                        div_parent = d3.select('#' + viz_id).node().parentNode\n",
       "\n",
       "                    // Link to CSS file\n",
       "                    d3.select(div_parent).insert('link')\n",
       "                        .attr('rel', 'stylesheet')\n",
       "                        .attr('type', 'text/css')\n",
       "                        .attr('href', ecco_url + 'html/0.0.2/styles.css')\n",
       "\n",
       "                    return viz_id\n",
       "                }\n",
       "            }\n",
       "        }, function (err) {\n",
       "            console.log(err);\n",
       "        }\n",
       "    )\n",
       "</script>\n",
       "\n",
       "<head>\n",
       "    <link id='css' rel=\"stylesheet\" type=\"text/css\">\n",
       "</head>\n",
       "<div id=\"basic\"></div>\n"
      ],
      "text/plain": [
       "<IPython.core.display.HTML object>"
      ]
     },
     "metadata": {},
     "output_type": "display_data"
    },
    {
     "data": {
      "application/javascript": "\n             requirejs(['basic', 'ecco'], function(basic, ecco){\n                const viz_id = basic.init()\n                console.log(viz_id)\n                // ecco.interactiveTokens(viz_id, {})\n                window.ecco[viz_id] = new ecco.MinimalHighlighter({\n                    parentDiv: viz_id,\n                    data: {\"tokens\": [{\"token\": \"\", \"token_id\": 3, \"is_partial\": false, \"type\": \"input\", \"value\": \"0.0\", \"position\": 0}, {\"token\": \"s\", \"token_id\": 7, \"is_partial\": true, \"type\": \"input\", \"value\": \"0.0\", \"position\": 1}, {\"token\": \"s\", \"token_id\": 7, \"is_partial\": true, \"type\": \"input\", \"value\": \"0.0\", \"position\": 2}, {\"token\": \"t\", \"token_id\": 17, \"is_partial\": true, \"type\": \"input\", \"value\": \"0.0\", \"position\": 3}, {\"token\": \"2\", \"token_id\": 357, \"is_partial\": true, \"type\": \"input\", \"value\": \"0.0\", \"position\": 4}, {\"token\": \"sentence\", \"token_id\": 7142, \"is_partial\": false, \"type\": \"input\", \"value\": \"0.0\", \"position\": 5}, {\"token\": \":\", \"token_id\": 10, \"is_partial\": true, \"type\": \"input\", \"value\": \"0.0\", \"position\": 6}, {\"token\": \"I\", \"token_id\": 27, \"is_partial\": false, \"type\": \"input\", \"value\": \"0.0\", \"position\": 7}, {\"token\": \"have\", \"token_id\": 43, \"is_partial\": false, \"type\": \"input\", \"value\": \"0.0\", \"position\": 8}, {\"token\": \"\", \"token_id\": 3, \"is_partial\": false, \"type\": \"input\", \"value\": \"0.0\", \"position\": 9}, {\"token\": \"a\", \"token_id\": 9, \"is_partial\": true, \"type\": \"input\", \"value\": \"0.0\", \"position\": 10}, {\"token\": \"well\", \"token_id\": 168, \"is_partial\": false, \"type\": \"input\", \"value\": \"0.0\", \"position\": 11}, {\"token\": \"-\", \"token_id\": 18, \"is_partial\": true, \"type\": \"input\", \"value\": \"0.0\", \"position\": 12}, {\"token\": \"document\", \"token_id\": 28244, \"is_partial\": true, \"type\": \"input\", \"value\": \"0.0\", \"position\": 13}, {\"token\": \"e\", \"token_id\": 15, \"is_partial\": true, \"type\": \"input\", \"value\": \"0.0\", \"position\": 14}, {\"token\": \"d\", \"token_id\": 26, \"is_partial\": true, \"type\": \"input\", \"value\": \"0.0\", \"position\": 15}, {\"token\": \"weakness\", \"token_id\": 18724, \"is_partial\": false, \"type\": \"input\", \"value\": \"0.0\", \"position\": 16}, {\"token\": \"for\", \"token_id\": 21, \"is_partial\": false, \"type\": \"input\", \"value\": \"0.0\", \"position\": 17}, {\"token\": \"sci\", \"token_id\": 17201, \"is_partial\": false, \"type\": \"input\", \"value\": \"0.0\", \"position\": 18}, {\"token\": \"-\", \"token_id\": 18, \"is_partial\": true, \"type\": \"input\", \"value\": \"0.0\", \"position\": 19}, {\"token\": \"f\", \"token_id\": 89, \"is_partial\": true, \"type\": \"input\", \"value\": \"0.0\", \"position\": 20}, {\"token\": \"i\", \"token_id\": 23, \"is_partial\": true, \"type\": \"input\", \"value\": \"0.0\", \"position\": 21}, {\"token\": \"and\", \"token_id\": 11, \"is_partial\": false, \"type\": \"input\", \"value\": \"0.0\", \"position\": 22}, {\"token\": \"expected\", \"token_id\": 1644, \"is_partial\": false, \"type\": \"input\", \"value\": \"0.0\", \"position\": 23}, {\"token\": \"Dun\", \"token_id\": 6393, \"is_partial\": false, \"type\": \"input\", \"value\": \"0.0\", \"position\": 24}, {\"token\": \"e\", \"token_id\": 15, \"is_partial\": true, \"type\": \"input\", \"value\": \"0.0\", \"position\": 25}, {\"token\": \"to\", \"token_id\": 12, \"is_partial\": false, \"type\": \"input\", \"value\": \"0.0\", \"position\": 26}, {\"token\": \"feed\", \"token_id\": 3305, \"is_partial\": false, \"type\": \"input\", \"value\": \"0.0\", \"position\": 27}, {\"token\": \"my\", \"token_id\": 82, \"is_partial\": false, \"type\": \"input\", \"value\": \"0.0\", \"position\": 28}, {\"token\": \"soul\", \"token_id\": 3668, \"is_partial\": false, \"type\": \"input\", \"value\": \"0.0\", \"position\": 29}, {\"token\": \".\", \"token_id\": 5, \"is_partial\": true, \"type\": \"input\", \"value\": \"0.0\", \"position\": 30}, {\"token\": \"I\", \"token_id\": 27, \"is_partial\": false, \"type\": \"input\", \"value\": \"0.0\", \"position\": 31}, {\"token\": \"didn\", \"token_id\": 737, \"is_partial\": false, \"type\": \"input\", \"value\": \"0.0\", \"position\": 32}, {\"token\": \"'\", \"token_id\": 31, \"is_partial\": true, \"type\": \"input\", \"value\": \"0.0\", \"position\": 33}, {\"token\": \"t\", \"token_id\": 17, \"is_partial\": true, \"type\": \"input\", \"value\": \"0.0\", \"position\": 34}, {\"token\": \"expect\", \"token_id\": 1672, \"is_partial\": false, \"type\": \"input\", \"value\": \"0.0\", \"position\": 35}, {\"token\": \"it\", \"token_id\": 34, \"is_partial\": false, \"type\": \"input\", \"value\": \"0.0\", \"position\": 36}, {\"token\": \"to\", \"token_id\": 12, \"is_partial\": false, \"type\": \"input\", \"value\": \"0.0\", \"position\": 37}, {\"token\": \"entirely\", \"token_id\": 4585, \"is_partial\": false, \"type\": \"input\", \"value\": \"0.0\", \"position\": 38}, {\"token\": \"blow\", \"token_id\": 6019, \"is_partial\": false, \"type\": \"input\", \"value\": \"0.0\", \"position\": 39}, {\"token\": \"my\", \"token_id\": 82, \"is_partial\": false, \"type\": \"input\", \"value\": \"0.0\", \"position\": 40}, {\"token\": \"mind\", \"token_id\": 809, \"is_partial\": false, \"type\": \"input\", \"value\": \"0.0\", \"position\": 41}, {\"token\": \".\", \"token_id\": 5, \"is_partial\": true, \"type\": \"input\", \"value\": \"0.0\", \"position\": 42}, {\"token\": \"</s>\", \"token_id\": 1, \"is_partial\": true, \"type\": \"input\", \"value\": \"0.0\", \"position\": 43}, {\"token\": \"<pad>\", \"token_id\": 0, \"is_partial\": true, \"type\": \"output\", \"value\": \"0.0\", \"position\": 44}, {\"token\": \"negative\", \"token_id\": 2841, \"is_partial\": false, \"type\": \"output\", \"value\": \"0\", \"position\": 45}], \"attributions\": [[0.0, 0.0, 0.0, 0.0, 0.0, 0.0, 0.0, 0.0, 0.0, 0.0, 0.0, 0.0, 0.0, 0.0, 0.0, 0.0, 0.0, 0.0, 0.0, 0.0, 0.0, 0.0, 0.0, 0.0, 0.0, 0.0, 0.0, 0.0, 0.0, 0.0, 0.0, 0.0, 0.0, 0.0, 0.0, 0.0, 0.0, 0.0, 0.0, 0.0, 0.0, 0.0, 0.0, 0.0, 0.0], [0.0, 0.0, 0.0, 0.0, 0.0, 0.0, 0.0, 0.015366008119409436, 0.010802387955934339, 0.006555945434728599, 0.010511936439710382, 0.010819682174407454, 0.006844987955052735, 0.020658293265445448, 0.006296534451334808, 0.010746174238938372, 0.053511955251736916, 0.019104423492367243, 0.017329392486737934, 0.00667760811732604, 0.005542894856470959, 0.006098651233118896, 0.010431829062470213, 0.038131087286055715, 0.016817740162111003, 0.007239563082947688, 0.013129857418986998, 0.023573667811858882, 0.012310467771213024, 0.021918938033769698, 0.0154464501753711, 0.012138433265340486, 0.025486921442105792, 0.02162688707356181, 0.028845541608740238, 0.051023454668358906, 0.020088611136303152, 0.015324896362562746, 0.025577892402227652, 0.03673365293867372, 0.012070500638795688, 0.015156052890231768, 0.018774524596211872, 0.0, 0.0]]},\n                    preset: 'viridis',\n                    tokenization_config: {\"token_prefix\": \"\\u2581\", \"partial_token_prefix\": \"\"}\n\n             })\n\n             window.ecco[viz_id].init();\n             window.ecco[viz_id].selectFirstToken();\n\n             }, function (err) {\n                console.log(err);\n            })",
      "text/plain": [
       "<IPython.core.display.Javascript object>"
      ]
     },
     "metadata": {},
     "output_type": "display_data"
    }
   ],
   "source": [
    "import ecco\n",
    "lm = ecco.from_pretrained('t5-small', verbose=False)\n",
    "review=\"\"\"I have a well-documented weakness for sci-fi and expected Dune \n",
    "to feed my soul. I didn't expect it to entirely blow my mind.\"\"\"\n",
    "\n",
    "output = lm.generate(f\"sst2 sentence: {review}\", generate=1, do_sample=False, attribution=['ig'])\n",
    "output.primary_attributions(attr_method='ig', ignore_tokens=[0,1,2,3,4,5,6,43,44])"
   ]
  },
  {
   "attachments": {},
   "cell_type": "markdown",
   "id": "54463ec8",
   "metadata": {},
   "source": [
    "\n",
    "Feature attribution using Integrated Gradients helps you explore model decisions. In this case, switching \"weakness\" to \"inclination\" allows the model to correctly switch the prediction to *positive*.\n",
    "\n",
    "### Explore the world knowledge of GPT models by posing fill-in-the blank questions."
   ]
  },
  {
   "cell_type": "code",
   "execution_count": 1,
   "id": "4fb43dac",
   "metadata": {},
   "outputs": [
    {
     "data": {
      "text/html": [
       "<html lang=\"en\">\n",
       "<script src=\"https://requirejs.org/docs/release/2.3.6/minified/require.js\"></script>\n",
       "<script>\n",
       "    var ecco_url = 'https://storage.googleapis.com/ml-intro/ecco/'\n",
       "    //var ecco_url = 'http://localhost:8000/'\n",
       "\n",
       "    if (window.ecco === undefined) window.ecco = {}\n",
       "\n",
       "    // Setup the paths of the script we'll be using\n",
       "    requirejs.config({\n",
       "        urlArgs: \"bust=\" + (new Date()).getTime(),\n",
       "        nodeRequire: require,\n",
       "        paths: {\n",
       "            d3: \"https://d3js.org/d3.v6.min\", // This is only for use in setup.html and basic.html\n",
       "            \"d3-array\": \"https://d3js.org/d3-array.v2.min\",\n",
       "            jquery: \"https://code.jquery.com/jquery-3.5.1.min\",\n",
       "            ecco: ecco_url + 'js/0.0.6/ecco-bundle.min',\n",
       "            xregexp: 'https://cdnjs.cloudflare.com/ajax/libs/xregexp/3.2.0/xregexp-all.min'\n",
       "        }\n",
       "    });\n",
       "\n",
       "    // Add the css file\n",
       "    //requirejs(['d3'],\n",
       "    //    function (d3) {\n",
       "    //        d3.select('#css').attr('href', ecco_url + 'html/styles.css')\n",
       "    //    })\n",
       "\n",
       "    console.log('Ecco initialize!!')\n",
       "\n",
       "    // returns a 'basic' object. basic.init() selects the html div we'll be\n",
       "    // rendering the html into, adds styles.css to the document.\n",
       "    define('basic', ['d3'],\n",
       "        function (d3) {\n",
       "            return {\n",
       "                init: function (viz_id = null) {\n",
       "                    if (viz_id == null) {\n",
       "                        viz_id = \"viz_\" + Math.round(Math.random() * 10000000)\n",
       "                    }\n",
       "                    // Select the div rendered below, change its id\n",
       "                    const div = d3.select('#basic').attr('id', viz_id),\n",
       "                        div_parent = d3.select('#' + viz_id).node().parentNode\n",
       "\n",
       "                    // Link to CSS file\n",
       "                    d3.select(div_parent).insert('link')\n",
       "                        .attr('rel', 'stylesheet')\n",
       "                        .attr('type', 'text/css')\n",
       "                        .attr('href', ecco_url + 'html/0.0.2/styles.css')\n",
       "\n",
       "                    return viz_id\n",
       "                }\n",
       "            }\n",
       "        }, function (err) {\n",
       "            console.log(err);\n",
       "        }\n",
       "    )\n",
       "</script>\n",
       "\n",
       "<head>\n",
       "    <link id='css' rel=\"stylesheet\" type=\"text/css\">\n",
       "</head>\n",
       "<div id=\"basic\"></div>\n"
      ],
      "text/plain": [
       "<IPython.core.display.HTML object>"
      ]
     },
     "metadata": {},
     "output_type": "display_data"
    },
    {
     "data": {
      "application/javascript": "\n         requirejs( ['basic', 'ecco'], function(basic, ecco){\n            basic.init('viz_561076') // Python needs to know the viz id. Used for each output token.\n            window.ecco['viz_561076'] = new ecco.renderOutputSequence({\n                    parentDiv: 'viz_561076',\n                    data: {\"tokens\": [{\"token\": \"Heath\", \"is_partial\": false, \"position\": 0, \"token_id\": 25846, \"type\": \"input\"}, {\"token\": \"row\", \"is_partial\": true, \"position\": 1, \"token_id\": 808, \"type\": \"input\"}, {\"token\": \"airport\", \"is_partial\": false, \"position\": 2, \"token_id\": 9003, \"type\": \"input\"}, {\"token\": \"is\", \"is_partial\": false, \"position\": 3, \"token_id\": 318, \"type\": \"input\"}, {\"token\": \"located\", \"is_partial\": false, \"position\": 4, \"token_id\": 5140, \"type\": \"input\"}, {\"token\": \"in\", \"is_partial\": false, \"position\": 5, \"token_id\": 287, \"type\": \"input\"}, {\"token\": \"the\", \"is_partial\": false, \"position\": 6, \"token_id\": 262, \"type\": \"input\"}, {\"token\": \"city\", \"is_partial\": false, \"position\": 7, \"token_id\": 1748, \"type\": \"input\"}, {\"token\": \"of\", \"is_partial\": false, \"position\": 8, \"token_id\": 286, \"type\": \"input\"}]},\n                    tokenization_config: {\"token_prefix\": \"\\u0120\", \"partial_token_prefix\": \"\"}\n            \n            })\n         }, function (err) {\n            console.log(err);\n        })\n        ",
      "text/plain": [
       "<IPython.core.display.Javascript object>"
      ]
     },
     "metadata": {},
     "output_type": "display_data"
    },
    {
     "name": "stderr",
     "output_type": "stream",
     "text": [
      "Setting `pad_token_id` to `eos_token_id`:50256 for open-end generation.\n"
     ]
    },
    {
     "data": {
      "application/javascript": "\n        // We don't really need these require scripts. But this is to avert\n        //this code from running before display_input_sequence which DOES require external files\n        requirejs(['basic', 'ecco'], function(basic, ecco){\n                console.log('addToken viz_id', 'viz_561076');\n                window.ecco['viz_561076'].addToken({\"token\": \"London\", \"is_partial\": false, \"token_id\": 3576, \"position\": 9, \"type\": \"output\"})\n                window.ecco['viz_561076'].redraw()\n        })\n        ",
      "text/plain": [
       "<IPython.core.display.Javascript object>"
      ]
     },
     "metadata": {},
     "output_type": "display_data"
    }
   ],
   "source": [
    "import ecco\n",
    "lm = ecco.from_pretrained('gpt2')\n",
    "prompt=\"\"\" Heathrow airport is located in the city of\"\"\"\n",
    "\n",
    "output = lm.generate(prompt, generate=1, do_sample=False)"
   ]
  },
  {
   "attachments": {},
   "cell_type": "markdown",
   "id": "94416bbd",
   "metadata": {},
   "source": [
    "\n",
    "Does GPT2 know where Heathrow Airport is? Yes. It does.\n",
    "\n",
    "### What other cities/words did the model consider in addition to London?"
   ]
  },
  {
   "cell_type": "code",
   "execution_count": 2,
   "id": "a65ab8fd",
   "metadata": {},
   "outputs": [
    {
     "data": {
      "text/html": [
       "<html lang=\"en\">\n",
       "<script src=\"https://requirejs.org/docs/release/2.3.6/minified/require.js\"></script>\n",
       "<script>\n",
       "    var ecco_url = 'https://storage.googleapis.com/ml-intro/ecco/'\n",
       "    //var ecco_url = 'http://localhost:8000/'\n",
       "\n",
       "    if (window.ecco === undefined) window.ecco = {}\n",
       "\n",
       "    // Setup the paths of the script we'll be using\n",
       "    requirejs.config({\n",
       "        urlArgs: \"bust=\" + (new Date()).getTime(),\n",
       "        nodeRequire: require,\n",
       "        paths: {\n",
       "            d3: \"https://d3js.org/d3.v6.min\", // This is only for use in setup.html and basic.html\n",
       "            \"d3-array\": \"https://d3js.org/d3-array.v2.min\",\n",
       "            jquery: \"https://code.jquery.com/jquery-3.5.1.min\",\n",
       "            ecco: ecco_url + 'js/0.0.6/ecco-bundle.min',\n",
       "            xregexp: 'https://cdnjs.cloudflare.com/ajax/libs/xregexp/3.2.0/xregexp-all.min'\n",
       "        }\n",
       "    });\n",
       "\n",
       "    // Add the css file\n",
       "    //requirejs(['d3'],\n",
       "    //    function (d3) {\n",
       "    //        d3.select('#css').attr('href', ecco_url + 'html/styles.css')\n",
       "    //    })\n",
       "\n",
       "    console.log('Ecco initialize!!')\n",
       "\n",
       "    // returns a 'basic' object. basic.init() selects the html div we'll be\n",
       "    // rendering the html into, adds styles.css to the document.\n",
       "    define('basic', ['d3'],\n",
       "        function (d3) {\n",
       "            return {\n",
       "                init: function (viz_id = null) {\n",
       "                    if (viz_id == null) {\n",
       "                        viz_id = \"viz_\" + Math.round(Math.random() * 10000000)\n",
       "                    }\n",
       "                    // Select the div rendered below, change its id\n",
       "                    const div = d3.select('#basic').attr('id', viz_id),\n",
       "                        div_parent = d3.select('#' + viz_id).node().parentNode\n",
       "\n",
       "                    // Link to CSS file\n",
       "                    d3.select(div_parent).insert('link')\n",
       "                        .attr('rel', 'stylesheet')\n",
       "                        .attr('type', 'text/css')\n",
       "                        .attr('href', ecco_url + 'html/0.0.2/styles.css')\n",
       "\n",
       "                    return viz_id\n",
       "                }\n",
       "            }\n",
       "        }, function (err) {\n",
       "            console.log(err);\n",
       "        }\n",
       "    )\n",
       "</script>\n",
       "\n",
       "<head>\n",
       "    <link id='css' rel=\"stylesheet\" type=\"text/css\">\n",
       "</head>\n",
       "<div id=\"basic\"></div>\n"
      ],
      "text/plain": [
       "<IPython.core.display.HTML object>"
      ]
     },
     "metadata": {},
     "output_type": "display_data"
    },
    {
     "data": {
      "application/javascript": "\n         requirejs( ['basic', 'ecco'], function(basic, ecco){\n            basic.init('viz_310082') // Python needs to know the viz id. Used for each output token.\n            window.ecco['viz_310082'] = new ecco.renderOutputSequence({\n                    parentDiv: 'viz_310082',\n                    data: {\"tokens\": [{\"token\": \"Heath\", \"is_partial\": false, \"position\": 0, \"token_id\": 25846, \"type\": \"input\"}, {\"token\": \"row\", \"is_partial\": true, \"position\": 1, \"token_id\": 808, \"type\": \"input\"}, {\"token\": \"airport\", \"is_partial\": false, \"position\": 2, \"token_id\": 9003, \"type\": \"input\"}, {\"token\": \"is\", \"is_partial\": false, \"position\": 3, \"token_id\": 318, \"type\": \"input\"}, {\"token\": \"located\", \"is_partial\": false, \"position\": 4, \"token_id\": 5140, \"type\": \"input\"}, {\"token\": \"in\", \"is_partial\": false, \"position\": 5, \"token_id\": 287, \"type\": \"input\"}, {\"token\": \"the\", \"is_partial\": false, \"position\": 6, \"token_id\": 262, \"type\": \"input\"}, {\"token\": \"city\", \"is_partial\": false, \"position\": 7, \"token_id\": 1748, \"type\": \"input\"}, {\"token\": \"of\", \"is_partial\": false, \"position\": 8, \"token_id\": 286, \"type\": \"input\"}]},\n                    tokenization_config: {\"token_prefix\": \"\\u0120\", \"partial_token_prefix\": \"\"}\n            \n            })\n         }, function (err) {\n            console.log(err);\n        })\n        ",
      "text/plain": [
       "<IPython.core.display.Javascript object>"
      ]
     },
     "metadata": {},
     "output_type": "display_data"
    },
    {
     "name": "stderr",
     "output_type": "stream",
     "text": [
      "Setting `pad_token_id` to `eos_token_id`:50256 for open-end generation.\n"
     ]
    },
    {
     "data": {
      "application/javascript": "\n        // We don't really need these require scripts. But this is to avert\n        //this code from running before display_input_sequence which DOES require external files\n        requirejs(['basic', 'ecco'], function(basic, ecco){\n                console.log('addToken viz_id', 'viz_310082');\n                window.ecco['viz_310082'].addToken({\"token\": \"London\", \"is_partial\": false, \"token_id\": 3576, \"position\": 9, \"type\": \"output\"})\n                window.ecco['viz_310082'].redraw()\n        })\n        ",
      "text/plain": [
       "<IPython.core.display.Javascript object>"
      ]
     },
     "metadata": {},
     "output_type": "display_data"
    },
    {
     "data": {
      "text/html": [
       "<html lang=\"en\">\n",
       "<script src=\"https://requirejs.org/docs/release/2.3.6/minified/require.js\"></script>\n",
       "<script>\n",
       "    var ecco_url = 'https://storage.googleapis.com/ml-intro/ecco/'\n",
       "    //var ecco_url = 'http://localhost:8000/'\n",
       "\n",
       "    if (window.ecco === undefined) window.ecco = {}\n",
       "\n",
       "    // Setup the paths of the script we'll be using\n",
       "    requirejs.config({\n",
       "        urlArgs: \"bust=\" + (new Date()).getTime(),\n",
       "        nodeRequire: require,\n",
       "        paths: {\n",
       "            d3: \"https://d3js.org/d3.v6.min\", // This is only for use in setup.html and basic.html\n",
       "            \"d3-array\": \"https://d3js.org/d3-array.v2.min\",\n",
       "            jquery: \"https://code.jquery.com/jquery-3.5.1.min\",\n",
       "            ecco: ecco_url + 'js/0.0.6/ecco-bundle.min',\n",
       "            xregexp: 'https://cdnjs.cloudflare.com/ajax/libs/xregexp/3.2.0/xregexp-all.min'\n",
       "        }\n",
       "    });\n",
       "\n",
       "    // Add the css file\n",
       "    //requirejs(['d3'],\n",
       "    //    function (d3) {\n",
       "    //        d3.select('#css').attr('href', ecco_url + 'html/styles.css')\n",
       "    //    })\n",
       "\n",
       "    console.log('Ecco initialize!!')\n",
       "\n",
       "    // returns a 'basic' object. basic.init() selects the html div we'll be\n",
       "    // rendering the html into, adds styles.css to the document.\n",
       "    define('basic', ['d3'],\n",
       "        function (d3) {\n",
       "            return {\n",
       "                init: function (viz_id = null) {\n",
       "                    if (viz_id == null) {\n",
       "                        viz_id = \"viz_\" + Math.round(Math.random() * 10000000)\n",
       "                    }\n",
       "                    // Select the div rendered below, change its id\n",
       "                    const div = d3.select('#basic').attr('id', viz_id),\n",
       "                        div_parent = d3.select('#' + viz_id).node().parentNode\n",
       "\n",
       "                    // Link to CSS file\n",
       "                    d3.select(div_parent).insert('link')\n",
       "                        .attr('rel', 'stylesheet')\n",
       "                        .attr('type', 'text/css')\n",
       "                        .attr('href', ecco_url + 'html/0.0.2/styles.css')\n",
       "\n",
       "                    return viz_id\n",
       "                }\n",
       "            }\n",
       "        }, function (err) {\n",
       "            console.log(err);\n",
       "        }\n",
       "    )\n",
       "</script>\n",
       "\n",
       "<head>\n",
       "    <link id='css' rel=\"stylesheet\" type=\"text/css\">\n",
       "</head>\n",
       "<div id=\"basic\"></div>\n"
      ],
      "text/plain": [
       "<IPython.core.display.HTML object>"
      ]
     },
     "metadata": {},
     "output_type": "display_data"
    },
    {
     "data": {
      "application/javascript": "\n             requirejs(['basic', 'ecco'], function(basic, ecco){\n                const viz_id = basic.init()\n                console.log(viz_id)\n                // ecco.interactiveTokens(viz_id, {})\n                window.ecco[viz_id] = new ecco.MinimalHighlighter({\n                    parentDiv: viz_id,\n                    data: {\"tokens\": [{\"token\": \"Heath\", \"token_id\": 25846, \"is_partial\": false, \"type\": \"input\", \"value\": \"0.26435234876154257\", \"position\": 0}, {\"token\": \"row\", \"token_id\": 808, \"is_partial\": true, \"type\": \"input\", \"value\": \"0.328698614887099\", \"position\": 1}, {\"token\": \"airport\", \"token_id\": 9003, \"is_partial\": false, \"type\": \"input\", \"value\": \"0.08085177267284965\", \"position\": 2}, {\"token\": \"is\", \"token_id\": 318, \"is_partial\": false, \"type\": \"input\", \"value\": \"0.028392703008037784\", \"position\": 3}, {\"token\": \"located\", \"token_id\": 5140, \"is_partial\": false, \"type\": \"input\", \"value\": \"0.06207456170842358\", \"position\": 4}, {\"token\": \"in\", \"token_id\": 287, \"is_partial\": false, \"type\": \"input\", \"value\": \"0.04363015599932059\", \"position\": 5}, {\"token\": \"the\", \"token_id\": 262, \"is_partial\": false, \"type\": \"input\", \"value\": \"0.04651000772229611\", \"position\": 6}, {\"token\": \"city\", \"token_id\": 1748, \"is_partial\": false, \"type\": \"input\", \"value\": \"0.10196837799968696\", \"position\": 7}, {\"token\": \"of\", \"token_id\": 286, \"is_partial\": false, \"type\": \"input\", \"value\": \"0.043521457240743876\", \"position\": 8}, {\"token\": \"London\", \"token_id\": 3576, \"is_partial\": false, \"type\": \"output\", \"value\": \"0\", \"position\": 9}], \"attributions\": [[0.26435234876154257, 0.328698614887099, 0.08085177267284965, 0.028392703008037784, 0.06207456170842358, 0.04363015599932059, 0.04651000772229611, 0.10196837799968696, 0.043521457240743876]]},\n                    preset: 'viridis',\n                    tokenization_config: {\"token_prefix\": \"\\u0120\", \"partial_token_prefix\": \"\"}\n\n             })\n\n             window.ecco[viz_id].init();\n             window.ecco[viz_id].selectFirstToken();\n\n             }, function (err) {\n                console.log(err);\n            })",
      "text/plain": [
       "<IPython.core.display.Javascript object>"
      ]
     },
     "metadata": {},
     "output_type": "display_data"
    }
   ],
   "source": [
    "import ecco\n",
    "#lm = ecco.from_pretrained('gpt2', verbose=False)\n",
    "prompt=\"\"\" Heathrow airport is located in the city of\"\"\"\n",
    "\n",
    "output = lm.generate(prompt, generate=1, do_sample=False, attribution=['ig'])\n",
    "output.primary_attributions(attr_method='ig')"
   ]
  },
  {
   "attachments": {},
   "cell_type": "markdown",
   "id": "89d1acc5",
   "metadata": {},
   "source": [
    "\n",
    "Visuals the candidate output tokens and their probability scores.\n",
    "\n",
    "### Which input words lead it to think of London?"
   ]
  },
  {
   "cell_type": "code",
   "execution_count": 5,
   "id": "96f36843",
   "metadata": {},
   "outputs": [
    {
     "data": {
      "text/html": [
       "<html lang=\"en\">\n",
       "<script src=\"https://requirejs.org/docs/release/2.3.6/minified/require.js\"></script>\n",
       "<script>\n",
       "    var ecco_url = 'https://storage.googleapis.com/ml-intro/ecco/'\n",
       "    //var ecco_url = 'http://localhost:8000/'\n",
       "\n",
       "    if (window.ecco === undefined) window.ecco = {}\n",
       "\n",
       "    // Setup the paths of the script we'll be using\n",
       "    requirejs.config({\n",
       "        urlArgs: \"bust=\" + (new Date()).getTime(),\n",
       "        nodeRequire: require,\n",
       "        paths: {\n",
       "            d3: \"https://d3js.org/d3.v6.min\", // This is only for use in setup.html and basic.html\n",
       "            \"d3-array\": \"https://d3js.org/d3-array.v2.min\",\n",
       "            jquery: \"https://code.jquery.com/jquery-3.5.1.min\",\n",
       "            ecco: ecco_url + 'js/0.0.6/ecco-bundle.min',\n",
       "            xregexp: 'https://cdnjs.cloudflare.com/ajax/libs/xregexp/3.2.0/xregexp-all.min'\n",
       "        }\n",
       "    });\n",
       "\n",
       "    // Add the css file\n",
       "    //requirejs(['d3'],\n",
       "    //    function (d3) {\n",
       "    //        d3.select('#css').attr('href', ecco_url + 'html/styles.css')\n",
       "    //    })\n",
       "\n",
       "    console.log('Ecco initialize!!')\n",
       "\n",
       "    // returns a 'basic' object. basic.init() selects the html div we'll be\n",
       "    // rendering the html into, adds styles.css to the document.\n",
       "    define('basic', ['d3'],\n",
       "        function (d3) {\n",
       "            return {\n",
       "                init: function (viz_id = null) {\n",
       "                    if (viz_id == null) {\n",
       "                        viz_id = \"viz_\" + Math.round(Math.random() * 10000000)\n",
       "                    }\n",
       "                    // Select the div rendered below, change its id\n",
       "                    const div = d3.select('#basic').attr('id', viz_id),\n",
       "                        div_parent = d3.select('#' + viz_id).node().parentNode\n",
       "\n",
       "                    // Link to CSS file\n",
       "                    d3.select(div_parent).insert('link')\n",
       "                        .attr('rel', 'stylesheet')\n",
       "                        .attr('type', 'text/css')\n",
       "                        .attr('href', ecco_url + 'html/0.0.2/styles.css')\n",
       "\n",
       "                    return viz_id\n",
       "                }\n",
       "            }\n",
       "        }, function (err) {\n",
       "            console.log(err);\n",
       "        }\n",
       "    )\n",
       "</script>\n",
       "\n",
       "<head>\n",
       "    <link id='css' rel=\"stylesheet\" type=\"text/css\">\n",
       "</head>\n",
       "<div id=\"basic\"></div>\n"
      ],
      "text/plain": [
       "<IPython.core.display.HTML object>"
      ]
     },
     "metadata": {},
     "output_type": "display_data"
    },
    {
     "data": {
      "application/javascript": "\n         requirejs(['basic', 'ecco'], function(basic, ecco){\n            const viz_id = basic.init()\n\n\n            let pred = new ecco.LayerPredictions({\n                parentDiv: viz_id,\n                data:[[{\"token\": \" London\", \"prob\": \"0.10360242\", \"ranking\": 1, \"layer\": 11}, {\"token\": \" Birmingham\", \"prob\": \"0.07902671\", \"ranking\": 2, \"layer\": 11}, {\"token\": \" Manchester\", \"prob\": \"0.044097885\", \"ranking\": 3, \"layer\": 11}, {\"token\": \" Liverpool\", \"prob\": \"0.018532706\", \"ranking\": 4, \"layer\": 11}, {\"token\": \" Bristol\", \"prob\": \"0.01844722\", \"ranking\": 5, \"layer\": 11}, {\"token\": \" Glasgow\", \"prob\": \"0.017188404\", \"ranking\": 6, \"layer\": 11}, {\"token\": \" W\", \"prob\": \"0.013818859\", \"ranking\": 7, \"layer\": 11}, {\"token\": \" Leeds\", \"prob\": \"0.012471733\", \"ranking\": 8, \"layer\": 11}, {\"token\": \" Edinburgh\", \"prob\": \"0.011846529\", \"ranking\": 9, \"layer\": 11}, {\"token\": \" L\", \"prob\": \"0.011845355\", \"ranking\": 10, \"layer\": 11}]]\n            })\n            pred.init()\n         }, function (err) {\n            console.log(viz_id, err);\n        })",
      "text/plain": [
       "<IPython.core.display.Javascript object>"
      ]
     },
     "metadata": {},
     "output_type": "display_data"
    }
   ],
   "source": [
    "output.layer_predictions(position=9, layer=11)"
   ]
  },
  {
   "attachments": {},
   "cell_type": "markdown",
   "id": "2963976f",
   "metadata": {},
   "source": [
    "\n",
    "### At which layers did the model gather confidence that London is the right answer?"
   ]
  },
  {
   "cell_type": "code",
   "execution_count": 3,
   "id": "7d61e231",
   "metadata": {},
   "outputs": [
    {
     "name": "stderr",
     "output_type": "stream",
     "text": [
      "C:\\Users\\erikm\\AppData\\Local\\Packages\\PythonSoftwareFoundation.Python.3.9_qbz5n2kfra8p0\\LocalCache\\local-packages\\Python39\\site-packages\\ecco\\output.py:469: UserWarning: To copy construct from a tensor, it is recommended to use sourceTensor.clone().detach() or sourceTensor.clone().detach().requires_grad_(True), rather than torch.tensor(sourceTensor).\n",
      "  token_id = torch.tensor(self.token_ids[0][offset + j])\n"
     ]
    },
    {
     "data": {
      "image/png": "[encoded data removed]",
      "text/plain": [
       "<Figure size 136.8x417.6 with 3 Axes>"
      ]
     },
     "metadata": {},
     "output_type": "display_data"
    }
   ],
   "source": [
    "output.rankings()"
   ]
  },
  {
   "attachments": {},
   "cell_type": "markdown",
   "id": "7fc1af57",
   "metadata": {},
   "source": [
    "\n",
    "The model chose London by making the highest probability token (ranking it #1) after the last layer in the model. How much did each layer contribute to increasing the ranking of *London*? This is a [logit lens](https://www.lesswrong.com/posts/AcKRB8wDpdaN6v6ru/interpreting-gpt-the-logit-lens) visualizations that helps explore the activity of different model layers.\n",
    "\n",
    "### What are the patterns in BERT neuron activation when it processes a piece of text? "
   ]
  },
  {
   "cell_type": "code",
   "execution_count": 6,
   "id": "1f5e47ef",
   "metadata": {},
   "outputs": [
    {
     "name": "stderr",
     "output_type": "stream",
     "text": [
      "Downloading pytorch_model.bin: 100%|██████████| 256M/256M [01:29<00:00, 3.00MB/s] \n",
      "Some weights of the model checkpoint at distilbert-base-uncased were not used when initializing DistilBertModel: ['vocab_layer_norm.bias', 'vocab_projector.weight', 'vocab_projector.bias', 'vocab_transform.bias', 'vocab_layer_norm.weight', 'vocab_transform.weight']\n",
      "- This IS expected if you are initializing DistilBertModel from the checkpoint of a model trained on another task or with another architecture (e.g. initializing a BertForSequenceClassification model from a BertForPreTraining model).\n",
      "- This IS NOT expected if you are initializing DistilBertModel from the checkpoint of a model that you expect to be exactly identical (initializing a BertForSequenceClassification model from a BertForSequenceClassification model).\n"
     ]
    },
    {
     "data": {
      "text/html": [
       "<html lang=\"en\">\n",
       "<script src=\"https://requirejs.org/docs/release/2.3.6/minified/require.js\"></script>\n",
       "<script>\n",
       "    var ecco_url = 'https://storage.googleapis.com/ml-intro/ecco/'\n",
       "    //var ecco_url = 'http://localhost:8000/'\n",
       "\n",
       "    if (window.ecco === undefined) window.ecco = {}\n",
       "\n",
       "    // Setup the paths of the script we'll be using\n",
       "    requirejs.config({\n",
       "        urlArgs: \"bust=\" + (new Date()).getTime(),\n",
       "        nodeRequire: require,\n",
       "        paths: {\n",
       "            d3: \"https://d3js.org/d3.v6.min\", // This is only for use in setup.html and basic.html\n",
       "            \"d3-array\": \"https://d3js.org/d3-array.v2.min\",\n",
       "            jquery: \"https://code.jquery.com/jquery-3.5.1.min\",\n",
       "            ecco: ecco_url + 'js/0.0.6/ecco-bundle.min',\n",
       "            xregexp: 'https://cdnjs.cloudflare.com/ajax/libs/xregexp/3.2.0/xregexp-all.min'\n",
       "        }\n",
       "    });\n",
       "\n",
       "    // Add the css file\n",
       "    //requirejs(['d3'],\n",
       "    //    function (d3) {\n",
       "    //        d3.select('#css').attr('href', ecco_url + 'html/styles.css')\n",
       "    //    })\n",
       "\n",
       "    console.log('Ecco initialize!!')\n",
       "\n",
       "    // returns a 'basic' object. basic.init() selects the html div we'll be\n",
       "    // rendering the html into, adds styles.css to the document.\n",
       "    define('basic', ['d3'],\n",
       "        function (d3) {\n",
       "            return {\n",
       "                init: function (viz_id = null) {\n",
       "                    if (viz_id == null) {\n",
       "                        viz_id = \"viz_\" + Math.round(Math.random() * 10000000)\n",
       "                    }\n",
       "                    // Select the div rendered below, change its id\n",
       "                    const div = d3.select('#basic').attr('id', viz_id),\n",
       "                        div_parent = d3.select('#' + viz_id).node().parentNode\n",
       "\n",
       "                    // Link to CSS file\n",
       "                    d3.select(div_parent).insert('link')\n",
       "                        .attr('rel', 'stylesheet')\n",
       "                        .attr('type', 'text/css')\n",
       "                        .attr('href', ecco_url + 'html/0.0.2/styles.css')\n",
       "\n",
       "                    return viz_id\n",
       "                }\n",
       "            }\n",
       "        }, function (err) {\n",
       "            console.log(err);\n",
       "        }\n",
       "    )\n",
       "</script>\n",
       "\n",
       "<head>\n",
       "    <link id='css' rel=\"stylesheet\" type=\"text/css\">\n",
       "</head>\n",
       "<div id=\"basic\"></div>\n"
      ],
      "text/plain": [
       "<IPython.core.display.HTML object>"
      ]
     },
     "metadata": {},
     "output_type": "display_data"
    },
    {
     "data": {
      "application/javascript": "\n         requirejs(['basic', 'ecco'], function(basic, ecco){\n            const viz_id = basic.init()\n            \n            ecco.interactiveTokensAndFactorSparklines(viz_id, {'tokens': [{'token': '[CLS]', 'token_id': 101, 'type': 'input', 'position': 0}, {'token': 'now', 'token_id': 2085, 'type': 'input', 'position': 1}, {'token': 'i', 'token_id': 1045, 'type': 'input', 'position': 2}, {'token': 'ask', 'token_id': 3198, 'type': 'input', 'position': 3}, {'token': 'you', 'token_id': 2017, 'type': 'input', 'position': 4}, {'token': ':', 'token_id': 1024, 'type': 'input', 'position': 5}, {'token': 'what', 'token_id': 2054, 'type': 'input', 'position': 6}, {'token': 'can', 'token_id': 2064, 'type': 'input', 'position': 7}, {'token': 'be', 'token_id': 2022, 'type': 'input', 'position': 8}, {'token': 'expected', 'token_id': 3517, 'type': 'input', 'position': 9}, {'token': 'of', 'token_id': 1997, 'type': 'input', 'position': 10}, {'token': 'man', 'token_id': 2158, 'type': 'input', 'position': 11}, {'token': 'since', 'token_id': 2144, 'type': 'input', 'position': 12}, {'token': 'he', 'token_id': 2002, 'type': 'input', 'position': 13}, {'token': 'is', 'token_id': 2003, 'type': 'input', 'position': 14}, {'token': 'a', 'token_id': 1037, 'type': 'input', 'position': 15}, {'token': 'being', 'token_id': 2108, 'type': 'input', 'position': 16}, {'token': 'endowed', 'token_id': 19038, 'type': 'input', 'position': 17}, {'token': 'with', 'token_id': 2007, 'type': 'input', 'position': 18}, {'token': 'strange', 'token_id': 4326, 'type': 'input', 'position': 19}, {'token': 'qualities', 'token_id': 11647, 'type': 'input', 'position': 20}, {'token': '?', 'token_id': 1029, 'type': 'input', 'position': 21}, {'token': 'shower', 'token_id': 6457, 'type': 'input', 'position': 22}, {'token': 'upon', 'token_id': 2588, 'type': 'input', 'position': 23}, {'token': 'him', 'token_id': 2032, 'type': 'input', 'position': 24}, {'token': 'every', 'token_id': 2296, 'type': 'input', 'position': 25}, {'token': 'earthly', 'token_id': 29520, 'type': 'input', 'position': 26}, {'token': 'blessing', 'token_id': 13301, 'type': 'input', 'position': 27}, {'token': ',', 'token_id': 1010, 'type': 'input', 'position': 28}, {'token': 'drown', 'token_id': 19549, 'type': 'input', 'position': 29}, {'token': 'him', 'token_id': 2032, 'type': 'input', 'position': 30}, {'token': 'in', 'token_id': 1999, 'type': 'input', 'position': 31}, {'token': 'a', 'token_id': 1037, 'type': 'input', 'position': 32}, {'token': 'sea', 'token_id': 2712, 'type': 'input', 'position': 33}, {'token': 'of', 'token_id': 1997, 'type': 'input', 'position': 34}, {'token': 'happiness', 'token_id': 8404, 'type': 'input', 'position': 35}, {'token': ',', 'token_id': 1010, 'type': 'input', 'position': 36}, {'token': 'so', 'token_id': 2061, 'type': 'input', 'position': 37}, {'token': 'that', 'token_id': 2008, 'type': 'input', 'position': 38}, {'token': 'nothing', 'token_id': 2498, 'type': 'input', 'position': 39}, {'token': 'but', 'token_id': 2021, 'type': 'input', 'position': 40}, {'token': 'bubbles', 'token_id': 17255, 'type': 'input', 'position': 41}, {'token': 'of', 'token_id': 1997, 'type': 'input', 'position': 42}, {'token': 'bliss', 'token_id': 13670, 'type': 'input', 'position': 43}, {'token': 'can', 'token_id': 2064, 'type': 'input', 'position': 44}, {'token': 'be', 'token_id': 2022, 'type': 'input', 'position': 45}, {'token': 'seen', 'token_id': 2464, 'type': 'input', 'position': 46}, {'token': 'on', 'token_id': 2006, 'type': 'input', 'position': 47}, {'token': 'the', 'token_id': 1996, 'type': 'input', 'position': 48}, {'token': 'surface', 'token_id': 3302, 'type': 'input', 'position': 49}, {'token': ';', 'token_id': 1025, 'type': 'input', 'position': 50}, {'token': 'give', 'token_id': 2507, 'type': 'input', 'position': 51}, {'token': 'him', 'token_id': 2032, 'type': 'input', 'position': 52}, {'token': 'economic', 'token_id': 3171, 'type': 'input', 'position': 53}, {'token': 'prosperity', 'token_id': 14165, 'type': 'input', 'position': 54}, {'token': ',', 'token_id': 1010, 'type': 'input', 'position': 55}, {'token': 'such', 'token_id': 2107, 'type': 'input', 'position': 56}, {'token': 'that', 'token_id': 2008, 'type': 'input', 'position': 57}, {'token': 'he', 'token_id': 2002, 'type': 'input', 'position': 58}, {'token': 'should', 'token_id': 2323, 'type': 'input', 'position': 59}, {'token': 'have', 'token_id': 2031, 'type': 'input', 'position': 60}, {'token': 'nothing', 'token_id': 2498, 'type': 'input', 'position': 61}, {'token': 'else', 'token_id': 2842, 'type': 'input', 'position': 62}, {'token': 'to', 'token_id': 2000, 'type': 'input', 'position': 63}, {'token': 'do', 'token_id': 2079, 'type': 'input', 'position': 64}, {'token': 'but', 'token_id': 2021, 'type': 'input', 'position': 65}, {'token': 'sleep', 'token_id': 3637, 'type': 'input', 'position': 66}, {'token': ',', 'token_id': 1010, 'type': 'input', 'position': 67}, {'token': 'eat', 'token_id': 4521, 'type': 'input', 'position': 68}, {'token': 'cakes', 'token_id': 22619, 'type': 'input', 'position': 69}, {'token': 'and', 'token_id': 1998, 'type': 'input', 'position': 70}, {'token': 'busy', 'token_id': 5697, 'type': 'input', 'position': 71}, {'token': 'himself', 'token_id': 2370, 'type': 'input', 'position': 72}, {'token': 'with', 'token_id': 2007, 'type': 'input', 'position': 73}, {'token': 'the', 'token_id': 1996, 'type': 'input', 'position': 74}, {'token': 'continuation', 'token_id': 13633, 'type': 'input', 'position': 75}, {'token': 'of', 'token_id': 1997, 'type': 'input', 'position': 76}, {'token': 'his', 'token_id': 2010, 'type': 'input', 'position': 77}, {'token': 'species', 'token_id': 2427, 'type': 'input', 'position': 78}, {'token': ',', 'token_id': 1010, 'type': 'input', 'position': 79}, {'token': 'and', 'token_id': 1998, 'type': 'input', 'position': 80}, {'token': 'even', 'token_id': 2130, 'type': 'input', 'position': 81}, {'token': 'then', 'token_id': 2059, 'type': 'input', 'position': 82}, {'token': 'out', 'token_id': 2041, 'type': 'input', 'position': 83}, {'token': 'of', 'token_id': 1997, 'type': 'input', 'position': 84}, {'token': 'sheer', 'token_id': 11591, 'type': 'input', 'position': 85}, {'token': 'ing', 'token_id': 13749, 'type': 'input', 'position': 86}, {'token': '##rat', 'token_id': 8609, 'type': 'input', 'position': 87}, {'token': '##itude', 'token_id': 18679, 'type': 'input', 'position': 88}, {'token': ',', 'token_id': 1010, 'type': 'input', 'position': 89}, {'token': 'sheer', 'token_id': 11591, 'type': 'input', 'position': 90}, {'token': 'spite', 'token_id': 8741, 'type': 'input', 'position': 91}, {'token': ',', 'token_id': 1010, 'type': 'input', 'position': 92}, {'token': 'man', 'token_id': 2158, 'type': 'input', 'position': 93}, {'token': 'would', 'token_id': 2052, 'type': 'input', 'position': 94}, {'token': 'play', 'token_id': 2377, 'type': 'input', 'position': 95}, {'token': 'you', 'token_id': 2017, 'type': 'input', 'position': 96}, {'token': 'some', 'token_id': 2070, 'type': 'input', 'position': 97}, {'token': 'nasty', 'token_id': 11808, 'type': 'input', 'position': 98}, {'token': 'trick', 'token_id': 7577, 'type': 'input', 'position': 99}, {'token': '.', 'token_id': 1012, 'type': 'input', 'position': 100}, {'token': 'he', 'token_id': 2002, 'type': 'input', 'position': 101}, {'token': 'would', 'token_id': 2052, 'type': 'input', 'position': 102}, {'token': 'even', 'token_id': 2130, 'type': 'input', 'position': 103}, {'token': 'risk', 'token_id': 3891, 'type': 'input', 'position': 104}, {'token': 'his', 'token_id': 2010, 'type': 'input', 'position': 105}, {'token': 'cakes', 'token_id': 22619, 'type': 'input', 'position': 106}, {'token': 'and', 'token_id': 1998, 'type': 'input', 'position': 107}, {'token': 'would', 'token_id': 2052, 'type': 'input', 'position': 108}, {'token': 'deliberately', 'token_id': 9969, 'type': 'input', 'position': 109}, {'token': 'desire', 'token_id': 4792, 'type': 'input', 'position': 110}, {'token': 'the', 'token_id': 1996, 'type': 'input', 'position': 111}, {'token': 'most', 'token_id': 2087, 'type': 'input', 'position': 112}, {'token': 'fatal', 'token_id': 10611, 'type': 'input', 'position': 113}, {'token': 'rubbish', 'token_id': 29132, 'type': 'input', 'position': 114}, {'token': ',', 'token_id': 1010, 'type': 'input', 'position': 115}, {'token': 'the', 'token_id': 1996, 'type': 'input', 'position': 116}, {'token': 'most', 'token_id': 2087, 'type': 'input', 'position': 117}, {'token': 'une', 'token_id': 16655, 'type': 'input', 'position': 118}, {'token': '##con', 'token_id': 8663, 'type': 'input', 'position': 119}, {'token': '##omic', 'token_id': 22026, 'type': 'input', 'position': 120}, {'token': '##al', 'token_id': 2389, 'type': 'input', 'position': 121}, {'token': 'absurd', 'token_id': 18691, 'type': 'input', 'position': 122}, {'token': '##ity', 'token_id': 3012, 'type': 'input', 'position': 123}, {'token': ',', 'token_id': 1010, 'type': 'input', 'position': 124}, {'token': 'simply', 'token_id': 3432, 'type': 'input', 'position': 125}, {'token': 'to', 'token_id': 2000, 'type': 'input', 'position': 126}, {'token': 'introduce', 'token_id': 8970, 'type': 'input', 'position': 127}, {'token': 'into', 'token_id': 2046, 'type': 'input', 'position': 128}, {'token': 'all', 'token_id': 2035, 'type': 'input', 'position': 129}, {'token': 'this', 'token_id': 2023, 'type': 'input', 'position': 130}, {'token': 'positive', 'token_id': 3893, 'type': 'input', 'position': 131}, {'token': 'good', 'token_id': 2204, 'type': 'input', 'position': 132}, {'token': 'sense', 'token_id': 3168, 'type': 'input', 'position': 133}, {'token': 'his', 'token_id': 2010, 'type': 'input', 'position': 134}, {'token': 'fatal', 'token_id': 10611, 'type': 'input', 'position': 135}, {'token': 'fantastic', 'token_id': 10392, 'type': 'input', 'position': 136}, {'token': 'element', 'token_id': 5783, 'type': 'input', 'position': 137}, {'token': '.', 'token_id': 1012, 'type': 'input', 'position': 138}, {'token': 'it', 'token_id': 2009, 'type': 'input', 'position': 139}, {'token': 'is', 'token_id': 2003, 'type': 'input', 'position': 140}, {'token': 'just', 'token_id': 2074, 'type': 'input', 'position': 141}, {'token': 'his', 'token_id': 2010, 'type': 'input', 'position': 142}, {'token': 'fantastic', 'token_id': 10392, 'type': 'input', 'position': 143}, {'token': 'dreams', 'token_id': 5544, 'type': 'input', 'position': 144}, {'token': ',', 'token_id': 1010, 'type': 'input', 'position': 145}, {'token': 'his', 'token_id': 2010, 'type': 'input', 'position': 146}, {'token': 'vulgar', 'token_id': 29364, 'type': 'input', 'position': 147}, {'token': 'folly', 'token_id': 26272, 'type': 'input', 'position': 148}, {'token': 'that', 'token_id': 2008, 'type': 'input', 'position': 149}, {'token': 'he', 'token_id': 2002, 'type': 'input', 'position': 150}, {'token': 'will', 'token_id': 2097, 'type': 'input', 'position': 151}, {'token': 'desire', 'token_id': 4792, 'type': 'input', 'position': 152}, {'token': 'to', 'token_id': 2000, 'type': 'input', 'position': 153}, {'token': 'retain', 'token_id': 9279, 'type': 'input', 'position': 154}, {'token': ',', 'token_id': 1010, 'type': 'input', 'position': 155}, {'token': 'simply', 'token_id': 3432, 'type': 'input', 'position': 156}, {'token': 'in', 'token_id': 1999, 'type': 'input', 'position': 157}, {'token': 'order', 'token_id': 2344, 'type': 'input', 'position': 158}, {'token': 'to', 'token_id': 2000, 'type': 'input', 'position': 159}, {'token': 'prove', 'token_id': 6011, 'type': 'input', 'position': 160}, {'token': 'to', 'token_id': 2000, 'type': 'input', 'position': 161}, {'token': 'himself', 'token_id': 2370, 'type': 'input', 'position': 162}, {'token': '-', 'token_id': 1011, 'type': 'input', 'position': 163}, {'token': '-', 'token_id': 1011, 'type': 'input', 'position': 164}, {'token': 'as', 'token_id': 2004, 'type': 'input', 'position': 165}, {'token': 'though', 'token_id': 2295, 'type': 'input', 'position': 166}, {'token': 'that', 'token_id': 2008, 'type': 'input', 'position': 167}, {'token': 'were', 'token_id': 2020, 'type': 'input', 'position': 168}, {'token': 'so', 'token_id': 2061, 'type': 'input', 'position': 169}, {'token': 'necessary', 'token_id': 4072, 'type': 'input', 'position': 170}, {'token': '-', 'token_id': 1011, 'type': 'input', 'position': 171}, {'token': '-', 'token_id': 1011, 'type': 'input', 'position': 172}, {'token': 'that', 'token_id': 2008, 'type': 'input', 'position': 173}, {'token': 'men', 'token_id': 2273, 'type': 'input', 'position': 174}, {'token': 'still', 'token_id': 2145, 'type': 'input', 'position': 175}, {'token': 'are', 'token_id': 2024, 'type': 'input', 'position': 176}, {'token': 'men', 'token_id': 2273, 'type': 'input', 'position': 177}, {'token': 'and', 'token_id': 1998, 'type': 'input', 'position': 178}, {'token': 'not', 'token_id': 2025, 'type': 'input', 'position': 179}, {'token': 'the', 'token_id': 1996, 'type': 'input', 'position': 180}, {'token': 'keys', 'token_id': 6309, 'type': 'input', 'position': 181}, {'token': 'of', 'token_id': 1997, 'type': 'input', 'position': 182}, {'token': 'a', 'token_id': 1037, 'type': 'input', 'position': 183}, {'token': 'piano', 'token_id': 3682, 'type': 'input', 'position': 184}, {'token': ',', 'token_id': 1010, 'type': 'input', 'position': 185}, {'token': 'which', 'token_id': 2029, 'type': 'input', 'position': 186}, {'token': 'the', 'token_id': 1996, 'type': 'input', 'position': 187}, {'token': 'laws', 'token_id': 4277, 'type': 'input', 'position': 188}, {'token': 'of', 'token_id': 1997, 'type': 'input', 'position': 189}, {'token': 'nature', 'token_id': 3267, 'type': 'input', 'position': 190}, {'token': 'threaten', 'token_id': 15686, 'type': 'input', 'position': 191}, {'token': 'to', 'token_id': 2000, 'type': 'input', 'position': 192}, {'token': 'control', 'token_id': 2491, 'type': 'input', 'position': 193}, {'token': 'so', 'token_id': 2061, 'type': 'input', 'position': 194}, {'token': 'completely', 'token_id': 3294, 'type': 'input', 'position': 195}, {'token': 'that', 'token_id': 2008, 'type': 'input', 'position': 196}, {'token': 'soon', 'token_id': 2574, 'type': 'input', 'position': 197}, {'token': 'one', 'token_id': 2028, 'type': 'input', 'position': 198}, {'token': 'will', 'token_id': 2097, 'type': 'input', 'position': 199}, {'token': 'be', 'token_id': 2022, 'type': 'input', 'position': 200}, {'token': 'able', 'token_id': 2583, 'type': 'input', 'position': 201}, {'token': 'to', 'token_id': 2000, 'type': 'input', 'position': 202}, {'token': 'desire', 'token_id': 4792, 'type': 'input', 'position': 203}, {'token': 'nothing', 'token_id': 2498, 'type': 'input', 'position': 204}, {'token': 'but', 'token_id': 2021, 'type': 'input', 'position': 205}, {'token': 'by', 'token_id': 2011, 'type': 'input', 'position': 206}, {'token': 'the', 'token_id': 1996, 'type': 'input', 'position': 207}, {'token': 'calendar', 'token_id': 8094, 'type': 'input', 'position': 208}, {'token': '.', 'token_id': 1012, 'type': 'input', 'position': 209}, {'token': 'and', 'token_id': 1998, 'type': 'input', 'position': 210}, {'token': 'that', 'token_id': 2008, 'type': 'input', 'position': 211}, {'token': 'is', 'token_id': 2003, 'type': 'input', 'position': 212}, {'token': 'not', 'token_id': 2025, 'type': 'input', 'position': 213}, {'token': 'all', 'token_id': 2035, 'type': 'input', 'position': 214}, {'token': ':', 'token_id': 1024, 'type': 'input', 'position': 215}, {'token': 'even', 'token_id': 2130, 'type': 'input', 'position': 216}, {'token': 'if', 'token_id': 2065, 'type': 'input', 'position': 217}, {'token': 'man', 'token_id': 2158, 'type': 'input', 'position': 218}, {'token': 'really', 'token_id': 2428, 'type': 'input', 'position': 219}, {'token': 'were', 'token_id': 2020, 'type': 'input', 'position': 220}, {'token': 'nothing', 'token_id': 2498, 'type': 'input', 'position': 221}, {'token': 'but', 'token_id': 2021, 'type': 'input', 'position': 222}, {'token': 'a', 'token_id': 1037, 'type': 'input', 'position': 223}, {'token': 'piano', 'token_id': 3682, 'type': 'input', 'position': 224}, {'token': '-', 'token_id': 1011, 'type': 'input', 'position': 225}, {'token': 'key', 'token_id': 3145, 'type': 'input', 'position': 226}, {'token': ',', 'token_id': 1010, 'type': 'input', 'position': 227}, {'token': 'even', 'token_id': 2130, 'type': 'input', 'position': 228}, {'token': 'if', 'token_id': 2065, 'type': 'input', 'position': 229}, {'token': 'this', 'token_id': 2023, 'type': 'input', 'position': 230}, {'token': 'were', 'token_id': 2020, 'type': 'input', 'position': 231}, {'token': 'proved', 'token_id': 4928, 'type': 'input', 'position': 232}, {'token': 'to', 'token_id': 2000, 'type': 'input', 'position': 233}, {'token': 'him', 'token_id': 2032, 'type': 'input', 'position': 234}, {'token': 'by', 'token_id': 2011, 'type': 'input', 'position': 235}, {'token': 'natural', 'token_id': 3019, 'type': 'input', 'position': 236}, {'token': 'science', 'token_id': 2671, 'type': 'input', 'position': 237}, {'token': 'and', 'token_id': 1998, 'type': 'input', 'position': 238}, {'token': 'mathematics', 'token_id': 5597, 'type': 'input', 'position': 239}, {'token': ',', 'token_id': 1010, 'type': 'input', 'position': 240}, {'token': 'even', 'token_id': 2130, 'type': 'input', 'position': 241}, {'token': 'then', 'token_id': 2059, 'type': 'input', 'position': 242}, {'token': 'he', 'token_id': 2002, 'type': 'input', 'position': 243}, {'token': 'would', 'token_id': 2052, 'type': 'input', 'position': 244}, {'token': 'not', 'token_id': 2025, 'type': 'input', 'position': 245}, {'token': 'become', 'token_id': 2468, 'type': 'input', 'position': 246}, {'token': 'reasonable', 'token_id': 9608, 'type': 'input', 'position': 247}, {'token': ',', 'token_id': 1010, 'type': 'input', 'position': 248}, {'token': 'but', 'token_id': 2021, 'type': 'input', 'position': 249}, {'token': 'would', 'token_id': 2052, 'type': 'input', 'position': 250}, {'token': 'purposely', 'token_id': 24680, 'type': 'input', 'position': 251}, {'token': 'do', 'token_id': 2079, 'type': 'input', 'position': 252}, {'token': 'something', 'token_id': 2242, 'type': 'input', 'position': 253}, {'token': 'per', 'token_id': 2566, 'type': 'input', 'position': 254}, {'token': '##verse', 'token_id': 16070, 'type': 'input', 'position': 255}, {'token': 'out', 'token_id': 2041, 'type': 'input', 'position': 256}, {'token': 'of', 'token_id': 1997, 'type': 'input', 'position': 257}, {'token': 'simple', 'token_id': 3722, 'type': 'input', 'position': 258}, {'token': 'ing', 'token_id': 13749, 'type': 'input', 'position': 259}, {'token': '##rat', 'token_id': 8609, 'type': 'input', 'position': 260}, {'token': '##itude', 'token_id': 18679, 'type': 'input', 'position': 261}, {'token': ',', 'token_id': 1010, 'type': 'input', 'position': 262}, {'token': 'simply', 'token_id': 3432, 'type': 'input', 'position': 263}, {'token': 'to', 'token_id': 2000, 'type': 'input', 'position': 264}, {'token': 'gain', 'token_id': 5114, 'type': 'input', 'position': 265}, {'token': 'his', 'token_id': 2010, 'type': 'input', 'position': 266}, {'token': 'point', 'token_id': 2391, 'type': 'input', 'position': 267}, {'token': '.', 'token_id': 1012, 'type': 'input', 'position': 268}, {'token': 'and', 'token_id': 1998, 'type': 'input', 'position': 269}, {'token': 'if', 'token_id': 2065, 'type': 'input', 'position': 270}, {'token': 'he', 'token_id': 2002, 'type': 'input', 'position': 271}, {'token': 'does', 'token_id': 2515, 'type': 'input', 'position': 272}, {'token': 'not', 'token_id': 2025, 'type': 'input', 'position': 273}, {'token': 'find', 'token_id': 2424, 'type': 'input', 'position': 274}, {'token': 'means', 'token_id': 2965, 'type': 'input', 'position': 275}, {'token': 'he', 'token_id': 2002, 'type': 'input', 'position': 276}, {'token': 'will', 'token_id': 2097, 'type': 'input', 'position': 277}, {'token': 'con', 'token_id': 9530, 'type': 'input', 'position': 278}, {'token': '##tri', 'token_id': 18886, 'type': 'input', 'position': 279}, {'token': '##ve', 'token_id': 3726, 'type': 'input', 'position': 280}, {'token': 'destruction', 'token_id': 6215, 'type': 'input', 'position': 281}, {'token': 'and', 'token_id': 1998, 'type': 'input', 'position': 282}, {'token': 'chaos', 'token_id': 8488, 'type': 'input', 'position': 283}, {'token': ',', 'token_id': 1010, 'type': 'input', 'position': 284}, {'token': 'will', 'token_id': 2097, 'type': 'input', 'position': 285}, {'token': 'con', 'token_id': 9530, 'type': 'input', 'position': 286}, {'token': '##tri', 'token_id': 18886, 'type': 'input', 'position': 287}, {'token': '##ve', 'token_id': 3726, 'type': 'input', 'position': 288}, {'token': 'suffering', 'token_id': 6114, 'type': 'input', 'position': 289}, {'token': '##s', 'token_id': 2015, 'type': 'input', 'position': 290}, {'token': 'of', 'token_id': 1997, 'type': 'input', 'position': 291}, {'token': 'all', 'token_id': 2035, 'type': 'input', 'position': 292}, {'token': 'sorts', 'token_id': 11901, 'type': 'input', 'position': 293}, {'token': ',', 'token_id': 1010, 'type': 'input', 'position': 294}, {'token': 'only', 'token_id': 2069, 'type': 'input', 'position': 295}, {'token': 'to', 'token_id': 2000, 'type': 'input', 'position': 296}, {'token': 'gain', 'token_id': 5114, 'type': 'input', 'position': 297}, {'token': 'his', 'token_id': 2010, 'type': 'input', 'position': 298}, {'token': 'point', 'token_id': 2391, 'type': 'input', 'position': 299}, {'token': '!', 'token_id': 999, 'type': 'input', 'position': 300}, {'token': 'he', 'token_id': 2002, 'type': 'input', 'position': 301}, {'token': 'will', 'token_id': 2097, 'type': 'input', 'position': 302}, {'token': 'launch', 'token_id': 4888, 'type': 'input', 'position': 303}, {'token': 'a', 'token_id': 1037, 'type': 'input', 'position': 304}, {'token': 'curse', 'token_id': 8364, 'type': 'input', 'position': 305}, {'token': 'upon', 'token_id': 2588, 'type': 'input', 'position': 306}, {'token': 'the', 'token_id': 1996, 'type': 'input', 'position': 307}, {'token': 'world', 'token_id': 2088, 'type': 'input', 'position': 308}, {'token': ',', 'token_id': 1010, 'type': 'input', 'position': 309}, {'token': 'and', 'token_id': 1998, 'type': 'input', 'position': 310}, {'token': 'as', 'token_id': 2004, 'type': 'input', 'position': 311}, {'token': 'only', 'token_id': 2069, 'type': 'input', 'position': 312}, {'token': 'man', 'token_id': 2158, 'type': 'input', 'position': 313}, {'token': 'can', 'token_id': 2064, 'type': 'input', 'position': 314}, {'token': 'curse', 'token_id': 8364, 'type': 'input', 'position': 315}, {'token': '(', 'token_id': 1006, 'type': 'input', 'position': 316}, {'token': 'it', 'token_id': 2009, 'type': 'input', 'position': 317}, {'token': 'is', 'token_id': 2003, 'type': 'input', 'position': 318}, {'token': 'his', 'token_id': 2010, 'type': 'input', 'position': 319}, {'token': 'privilege', 'token_id': 14293, 'type': 'input', 'position': 320}, {'token': ',', 'token_id': 1010, 'type': 'input', 'position': 321}, {'token': 'the', 'token_id': 1996, 'type': 'input', 'position': 322}, {'token': 'primary', 'token_id': 3078, 'type': 'input', 'position': 323}, {'token': 'distinction', 'token_id': 7835, 'type': 'input', 'position': 324}, {'token': 'between', 'token_id': 2090, 'type': 'input', 'position': 325}, {'token': 'him', 'token_id': 2032, 'type': 'input', 'position': 326}, {'token': 'and', 'token_id': 1998, 'type': 'input', 'position': 327}, {'token': 'other', 'token_id': 2060, 'type': 'input', 'position': 328}, {'token': 'animals', 'token_id': 4176, 'type': 'input', 'position': 329}, {'token': ')', 'token_id': 1007, 'type': 'input', 'position': 330}, {'token': ',', 'token_id': 1010, 'type': 'input', 'position': 331}, {'token': 'may', 'token_id': 2089, 'type': 'input', 'position': 332}, {'token': 'be', 'token_id': 2022, 'type': 'input', 'position': 333}, {'token': 'by', 'token_id': 2011, 'type': 'input', 'position': 334}, {'token': 'his', 'token_id': 2010, 'type': 'input', 'position': 335}, {'token': 'curse', 'token_id': 8364, 'type': 'input', 'position': 336}, {'token': 'alone', 'token_id': 2894, 'type': 'input', 'position': 337}, {'token': 'he', 'token_id': 2002, 'type': 'input', 'position': 338}, {'token': 'will', 'token_id': 2097, 'type': 'input', 'position': 339}, {'token': 'attain', 'token_id': 18759, 'type': 'input', 'position': 340}, {'token': 'his', 'token_id': 2010, 'type': 'input', 'position': 341}, {'token': 'object', 'token_id': 4874, 'type': 'input', 'position': 342}, {'token': '-', 'token_id': 1011, 'type': 'input', 'position': 343}, {'token': '-', 'token_id': 1011, 'type': 'input', 'position': 344}, {'token': 'that', 'token_id': 2008, 'type': 'input', 'position': 345}, {'token': 'is', 'token_id': 2003, 'type': 'input', 'position': 346}, {'token': ',', 'token_id': 1010, 'type': 'input', 'position': 347}, {'token': 'convince', 'token_id': 8054, 'type': 'input', 'position': 348}, {'token': 'himself', 'token_id': 2370, 'type': 'input', 'position': 349}, {'token': 'that', 'token_id': 2008, 'type': 'input', 'position': 350}, {'token': 'he', 'token_id': 2002, 'type': 'input', 'position': 351}, {'token': 'is', 'token_id': 2003, 'type': 'input', 'position': 352}, {'token': 'a', 'token_id': 1037, 'type': 'input', 'position': 353}, {'token': 'man', 'token_id': 2158, 'type': 'input', 'position': 354}, {'token': 'and', 'token_id': 1998, 'type': 'input', 'position': 355}, {'token': 'not', 'token_id': 2025, 'type': 'input', 'position': 356}, {'token': 'a', 'token_id': 1037, 'type': 'input', 'position': 357}, {'token': 'piano', 'token_id': 3682, 'type': 'input', 'position': 358}, {'token': '-', 'token_id': 1011, 'type': 'input', 'position': 359}, {'token': 'key', 'token_id': 3145, 'type': 'input', 'position': 360}, {'token': '!', 'token_id': 999, 'type': 'input', 'position': 361}, {'token': '[SEP]', 'token_id': 102, 'type': 'input', 'position': 362}], 'factors': [[[0.0006851807120256126, 0.0, 0.07580561190843582, 0.0356251560151577, 0.0033171428367495537, 0.0, 0.007548770867288113, 0.2088513821363449, 0.08036430925130844, 0.006420642137527466, 0.0, 0.0, 0.0, 0.0, 0.17210008203983307, 0.0, 0.014140840619802475, 0.0, 0.0, 0.0, 0.0, 0.048101820051670074, 0.0, 0.0006685318658128381, 0.0, 0.0, 0.0, 0.0, 0.04328003153204918, 0.0, 0.0, 0.0015145482029765844, 0.0, 0.0, 0.0, 0.0, 0.0, 0.0, 0.0, 0.0, 0.0, 0.0, 0.0, 0.0, 0.2870178520679474, 0.12374230474233627, 0.013725911267101765, 0.0, 0.0, 0.0, 0.0548601895570755, 0.05403846874833107, 0.0, 0.0, 0.0, 0.0, 0.0, 0.0, 0.002655225805938244, 0.24593669176101685, 0.11796341836452484, 0.023050853982567787, 0.027025297284126282, 0.16413846611976624, 0.0633147805929184, 0.031140733510255814, 0.007080752868205309, 0.08568355441093445, 0.023442111909389496, 0.0, 0.02635236829519272, 0.00841114204376936, 0.0, 0.016717590391635895, 0.0, 0.0, 0.0, 0.0, 0.004009974654763937, 0.0, 0.0, 0.00865616463124752, 0.012266077101230621, 0.009533445350825787, 0.00568558182567358, 0.0, 0.004374100361019373, 0.004203886725008488, 0.0003613933513406664, 0.013247473165392876, 0.016458243131637573, 0.0022095749154686928, 0.005305678118020296, 0.019824285060167313, 0.4244116544723511, 0.04968181997537613, 0.038242414593696594, 0.015209093689918518, 0.0014407036360353231, 0.0, 0.02131105400621891, 0.031054571270942688, 0.43503203988075256, 0.10126888006925583, 0.04189782589673996, 0.00030983975739218295, 0.0, 0.01625315472483635, 0.4027753174304962, 0.046167969703674316, 0.04286375641822815, 0.008789263665676117, 0.017461923882365227, 0.0, 0.0, 0.0, 0.0013056392781436443, 0.025919167324900627, 0.0, 0.0007107157143764198, 0.0, 0.0, 0.0, 0.002675125142559409, 0.0, 0.02625034935772419, 0.19733908772468567, 0.018603110685944557, 0.004667085595428944, 0.0, 0.0, 0.0, 0.0, 0.0, 0.0, 0.0, 0.0, 0.0, 0.0, 0.013862553052604198, 0.2094128131866455, 0.020801708102226257, 0.0, 0.0, 0.0, 0.0, 0.0, 0.0, 0.0, 0.0, 0.0013116662157699466, 0.3730125427246094, 0.061998434364795685, 0.16027088463306427, 0.0, 0.0, 0.002355927135795355, 0.013393123634159565, 0.021706663072109222, 0.17224930226802826, 0.01746736839413643, 0.04057563468813896, 0.0, 0.0, 0.0, 0.0, 0.0, 0.0, 0.14937244355678558, 0.0038136013317853212, 0.0, 0.0, 0.0, 0.0, 0.0, 0.051712509244680405, 0.1848209947347641, 0.0, 0.0, 0.02222968451678753, 0.0, 0.0, 0.0, 0.0, 0.0, 0.0, 0.0, 0.0, 0.0, 0.0, 0.0, 0.06967050582170486, 0.14124271273612976, 0.004890701733529568, 0.0, 0.0, 0.0, 0.02484101615846157, 0.03405580669641495, 0.4317844808101654, 0.16869039833545685, 0.09141825884580612, 0.1804293394088745, 0.033118780702352524, 0.0082347197458148, 0.0, 0.01390204206109047, 0.0, 0.0, 0.0, 0.0, 0.002011281671002507, 0.2132331132888794, 0.051284097135066986, 0.006815609056502581, 0.0, 0.0, 0.03033093921840191, 0.012172778137028217, 0.05764421820640564, 0.18501225113868713, 0.021999182179570198, 0.00712683517485857, 0.002859076950699091, 0.0, 0.0, 0.0, 3.829011257039383e-05, 0.004774054046720266, 0.03503704443573952, 0.02392115257680416, 0.17750418186187744, 0.04805925115942955, 0.06638691574335098, 0.0029143202118575573, 0.018242357298731804, 0.0005743691581301391, 0.0, 0.0, 0.0, 0.0, 0.0004898210754618049, 0.021284528076648712, 0.022699061781167984, 0.393861323595047, 0.13460741937160492, 0.08833055943250656, 0.0, 0.0, 0.00796479918062687, 0.3601457178592682, 0.03888489678502083, 0.10360265523195267, 0.022404832765460014, 0.010997639037668705, 0.0, 0.011992886662483215, 0.011449890211224556, 0.003690735436975956, 0.015495864674448967, 0.01864513009786606, 0.008794854395091534, 0.013400962576270103, 0.035504478961229324, 0.188999205827713, 0.04426777735352516, 0.0, 0.009460687637329102, 0.008965213783085346, 0.0, 0.03979647532105446, 0.022924140095710754, 0.2275751680135727, 0.13303694128990173, 0.06295496225357056, 0.04233993589878082, 0.04388956353068352, 0.4072991609573364, 0.05899527668952942, 0.032119736075401306, 0.06137222796678543, 0.0, 0.012087622657418251, 0.0, 0.025911014527082443, 0.3284974992275238, 0.0463668629527092, 0.02169405110180378, 0.04743433743715286, 0.0006954728742130101, 0.027565637603402138, 0.01303322147578001, 0.009764626622200012, 0.006554028484970331, 0.010878331959247589, 0.03579413890838623, 0.1893647462129593, 0.047208137810230255, 0.00855977926403284, 0.0028108921833336353, 0.019291896373033524, 0.023034006357192993, 0.41957056522369385, 0.008034056052565575, 0.019284667447209358, 0.0, 0.002044031396508217, 0.0, 0.0, 0.0, 0.0, 0.0, 0.0038731752429157495, 0.0019333924865350127, 0.2653370797634125, 0.0, 0.0, 0.021148892119526863, 0.16416259109973907, 0.0, 0.0, 0.0, 0.0, 0.0, 0.0, 0.0, 0.0, 0.0, 0.0, 0.0, 0.0, 0.0, 0.2084173560142517, 0.08385711163282394, 0.005367536563426256, 0.0, 0.0, 0.0, 0.0, 0.35393744707107544, 0.0, 0.0, 0.0, 0.0, 0.0, 0.0, 0.12540125846862793, 0.038400664925575256, 0.0, 0.0, 0.005543476901948452, 0.0, 0.20584440231323242, 0.007388071157038212, 0.0, 0.0, 0.03883419185876846, 0.0, 0.0, 0.0, 0.0, 0.00477095739915967, 0.010399550199508667], [0.033855367451906204, 0.0, 0.007837510667741299, 0.0, 0.013838933780789375, 0.11993043124675751, 0.0, 0.0, 0.0, 0.0, 0.0, 0.0, 0.0, 0.0, 0.0, 0.0, 0.0, 0.0, 0.00834972970187664, 0.0, 0.0, 0.1268395036458969, 0.0, 0.0, 0.0, 0.0, 0.0, 0.0, 0.8046720027923584, 0.0, 0.0, 0.05939707159996033, 0.0, 0.0, 0.0, 0.0, 1.025618553161621, 0.0, 0.0, 0.0, 0.0, 0.0, 0.0, 0.000583788612857461, 0.0, 0.0, 0.0, 0.012843074277043343, 0.028462808579206467, 0.0044300248846411705, 0.26796168088912964, 0.0, 0.0, 0.0, 0.0, 1.0053566694259644, 0.0, 0.0, 0.0, 0.0, 0.004631576593965292, 0.0, 0.0, 0.04006339982151985, 0.032155878841876984, 0.046816278249025345, 0.014031742699444294, 0.7064005732536316, 0.012251850217580795, 0.0, 0.1695261001586914, 0.024917611852288246, 0.028095906600356102, 0.07193701714277267, 0.10412118583917618, 0.02550152875483036, 0.027353519573807716, 0.0, 0.04913662374019623, 0.8862358927726746, 0.09442371129989624, 0.0, 0.03584865480661392, 0.013760303147137165, 0.02912389673292637, 0.0, 0.0, 0.0, 0.004839496687054634, 0.7648054957389832, 0.0, 0.03428778797388077, 0.963087797164917, 0.02926858514547348, 0.022987373173236847, 0.02603035606443882, 0.04523744434118271, 0.022276347503066063, 0.01436192449182272, 0.034650854766368866, 0.06575995683670044, 0.00606019701808691, 0.0064404793083667755, 0.012048750184476376, 0.016298871487379074, 0.033592455089092255, 0.0, 0.1994113028049469, 0.015472888015210629, 0.00042372048483230174, 0.015217438340187073, 0.05213082581758499, 0.017169320955872536, 0.0026029665023088455, 0.011187614873051643, 0.9296261668205261, 0.08137530833482742, 0.03133334964513779, 0.011891275644302368, 0.010164540261030197, 0.003588600317016244, 0.036918047815561295, 0.0, 0.04660147801041603, 1.1260262727737427, 0.0014074655482545495, 0.046561796218156815, 0.0030165931675583124, 0.02073916234076023, 0.0, 0.003489316441118717, 0.0, 0.0, 0.0, 0.0, 0.0, 0.0, 0.0, 0.0, 0.0, 0.0, 0.0, 0.0, 0.0, 0.0, 0.7909145951271057, 0.0, 0.0, 0.0, 0.019672907888889313, 0.0, 0.0, 0.0, 0.0, 0.0006478488794527948, 0.9713149070739746, 0.0, 0.024736255407333374, 0.0, 0.0005581653094850481, 0.0, 0.0, 0.0, 0.1361173838376999, 0.08322122693061829, 0.0, 0.0, 0.0, 0.004500490613281727, 0.0, 0.0, 0.12458529323339462, 0.08604035526514053, 0.0, 0.0, 0.0, 0.0, 0.0, 0.06550505757331848, 0.0, 0.0, 0.0, 0.0, 0.0, 0.0, 0.9744819402694702, 0.0, 0.0, 0.0, 0.0, 0.0, 0.0, 0.006520245689898729, 0.0, 0.0, 0.0, 0.0, 0.0, 0.0, 0.0, 0.0, 0.0, 0.0, 0.0, 0.0, 0.002084833336994052, 0.0, 0.0, 0.0010361233726143837, 0.0, 0.0, 0.0, 0.0, 0.0, 0.0, 0.10755566507577896, 0.0, 0.0, 0.0, 0.0, 0.0, 0.0, 0.0, 0.0, 0.0, 0.058272868394851685, 0.0, 0.9652969241142273, 0.0, 0.0, 0.0, 0.01196677889674902, 0.0, 0.0, 0.0, 0.019021160900592804, 0.0, 0.00402563763782382, 0.045356448739767075, 0.0, 1.0203237533569336, 0.0, 0.022803066298365593, 0.0, 0.0, 0.0, 0.0, 0.0, 0.9761409759521484, 0.024474825710058212, 0.0, 0.0, 0.006422603968530893, 0.0, 0.0, 0.0, 0.018447214737534523, 0.006631438620388508, 0.0, 0.0, 0.0, 0.0, 1.1036709547042847, 0.0, 0.05562084540724754, 0.0, 0.011194895952939987, 0.011409942060709, 0.016362840309739113, 0.0, 0.0, 0.0, 0.0016682515852153301, 0.0, 0.012368103489279747, 0.03983500972390175, 0.017942162230610847, 0.0, 0.013064629398286343, 0.0, 0.007959797978401184, 0.01566564105451107, 0.11870979517698288, 0.025384055450558662, 0.9135964512825012, 0.014387138187885284, 0.006263446994125843, 0.0, 0.005676270462572575, 0.011803570203483105, 0.04995688050985336, 0.06528932601213455, 0.0, 0.029271431267261505, 1.1907187700271606, 0.02102927304804325, 0.0724891796708107, 0.0028976609464734793, 0.02144707925617695, 0.02133418433368206, 0.09414006769657135, 0.004980902187526226, 0.0, 0.0, 0.017619669437408447, 0.0, 0.009614570997655392, 0.0, 0.0031887823715806007, 0.9458181262016296, 0.03479742631316185, 0.0, 0.0, 0.0, 0.0, 0.0, 0.15919850766658783, 0.0, 0.0, 0.0, 0.0, 0.7279784083366394, 0.0, 0.0, 0.0, 0.0, 0.0, 0.0, 0.0, 0.0, 0.24542871117591858, 0.7418925762176514, 0.0, 0.0, 0.0, 0.0, 0.0, 0.027447674423456192, 0.0, 0.0, 0.0, 0.0, 0.0, 0.10688860714435577, 0.02019241638481617, 0.0, 0.0, 0.7416989207267761, 0.0, 0.0, 0.0, 0.0, 0.0, 0.0, 0.0, 0.05374755710363388, 0.0, 0.0, 0.0, 0.06405669450759888, 0.0, 0.07405799627304077, 0.09764177352190018], [0.008299954235553741, 0.00010248130274703726, 0.005031573120504618, 0.0009074117988348007, 0.0049741375260055065, 0.005671917460858822, 0.0, 0.0, 0.0, 0.0, 0.0, 0.0, 0.004321470856666565, 0.0, 0.0, 0.0, 0.0, 0.0, 0.0, 0.0, 0.0, 0.026896582916378975, 0.0, 0.0, 0.0, 0.0, 0.0, 0.00012152727140346542, 0.0, 0.0, 0.0, 0.0, 0.0, 0.0, 0.0, 0.0, 0.34623607993125916, 0.0, 0.0, 0.0, 0.0, 0.0, 0.0, 0.0, 0.0, 0.0, 0.0, 0.0, 0.23004411160945892, 0.0026799566112458706, 0.018867595121264458, 0.0, 0.0, 0.0, 0.00025741959689185023, 0.0, 0.0, 0.0, 0.0, 0.0, 0.0, 0.0, 0.0, 0.0, 0.00043216493213549256, 0.0, 0.0, 0.0, 0.0, 0.0, 0.0, 0.0, 0.0, 0.0, 0.036683522164821625, 0.0, 0.0, 0.0, 0.0, 0.6279053688049316, 0.002436271170154214, 0.0, 0.0, 0.0011467378353700042, 0.0, 0.0, 0.0, 0.0015467579942196608, 0.002312831347808242, 0.0, 0.0, 0.0, 0.0, 0.0, 0.0, 0.000663920131046325, 0.0018938619177788496, 0.0004537187051028013, 0.0003550729597918689, 0.001846248283982277, 1.2433273792266846, 0.0008962822612375021, 0.00038773147389292717, 0.0, 0.0, 0.0, 0.0, 0.0, 0.0011282903142273426, 0.0, 0.0, 0.001790325972251594, 0.0, 9.689223224995658e-05, 0.0002194106491515413, 0.0, 0.0, 0.0, 0.00041879696073010564, 0.002928341506049037, 0.0, 0.000437116832472384, 0.0, 0.003159761428833008, 0.0, 0.0, 0.0, 0.0, 0.0, 0.0, 0.0, 0.0, 0.0, 0.00020394449529703707, 0.0, 0.0, 0.0, 0.0013612434267997742, 1.4269813299179077, 0.006333931814879179, 0.005779443308711052, 0.0, 0.0, 0.0, 0.0, 0.0, 0.0, 0.0, 0.0, 0.0, 0.0, 0.0, 0.0, 0.0, 0.0, 0.0, 0.0, 0.0, 0.0, 0.0, 0.0, 0.0, 0.0, 0.000583015673328191, 0.0, 0.0, 0.0, 0.0, 0.00025260899565182626, 0.0, 0.0, 0.005339574534446001, 0.0, 0.0, 0.0, 0.0, 0.0, 0.0004172073386143893, 0.0, 0.0, 0.0, 0.0003381538554094732, 0.0, 0.0, 9.323922859039158e-05, 0.20706243813037872, 0.0, 0.0010923088993877172, 0.0, 0.0, 0.0, 0.0, 0.0, 0.0, 0.0, 0.0, 0.0, 0.0, 0.0, 0.0, 0.0, 0.0, 0.0, 0.0, 7.657385867787525e-05, 0.0, 0.0009984108619391918, 0.0021897992119193077, 0.001981183188036084, 1.6809284687042236, 0.00865163840353489, 0.0005121190915815532, 0.002695010509341955, 0.0, 0.0, 0.008428905159235, 0.0, 0.0, 0.0, 0.0, 0.0, 0.0, 0.0, 0.0, 0.0, 0.0, 0.0, 0.0, 0.0, 0.0, 0.0, 0.0, 0.0, 0.0, 0.0, 0.0, 0.0, 0.0011154080275446177, 0.0, 6.466873310273513e-05, 0.08580536395311356, 0.0, 0.0, 0.0, 0.0, 0.0, 0.0, 0.0, 0.35010185837745667, 0.0, 0.0006896245176903903, 0.0, 0.0016803352627903223, 0.0, 0.0, 0.0005356364417821169, 0.000964322651270777, 0.0, 0.0, 0.0, 0.0010337824933230877, 0.0020236996933817863, 0.0, 0.0, 0.0, 0.0, 0.002254206221550703, 0.0017728988314047456, 1.4809314012527466, 0.007603638339787722, 0.0015008995542302728, 0.0, 0.0, 0.0, 0.0, 0.002798781730234623, 0.0, 0.0, 0.0010518920607864857, 0.0023625341709703207, 0.0014283712953329086, 0.0, 0.0, 0.0001830730470828712, 0.0, 0.000604792614467442, 0.003187871538102627, 0.0033900579437613487, 0.0032347675878554583, 0.0, 0.0019357765559107065, 0.0, 0.0, 0.0011026076972484589, 0.1179477795958519, 0.0, 0.0, 0.0, 8.740319026401266e-05, 0.0, 0.025650354102253914, 0.0, 0.0, 0.0, 0.00022517674369737506, 0.0, 0.0, 0.0015585151268169284, 0.0011389510473236442, 0.24518583714962006, 6.0276164731476456e-05, 0.0, 0.0, 0.0, 0.0, 0.0, 0.004758945666253567, 0.0, 0.0, 0.0, 0.0, 0.0, 0.0, 0.0, 0.0, 0.0, 0.0, 0.0, 0.0, 0.0, 0.014049558900296688, 0.0, 0.0, 0.0, 0.0, 0.0, 0.0, 0.0, 0.0, 0.0, 0.0, 0.0, 0.0, 0.003573965048417449, 0.0, 0.000952051137574017, 0.00527662318199873, 0.0, 0.0, 0.0, 0.0, 0.0, 0.0, 0.0, 0.0, 0.0, 0.0, 0.0, 0.0, 0.0, 0.0, 0.025372713804244995, 0.031204812228679657], [0.03459302335977554, 0.007728870026767254, 0.1366720050573349, 0.0, 0.1646946221590042, 0.019403230398893356, 0.034296102821826935, 0.0, 0.024435030296444893, 0.0, 0.027772726491093636, 0.2510279715061188, 0.0, 0.5662912130355835, 0.022501317784190178, 0.03893165662884712, 0.06183570250868797, 0.0, 0.002614508382976055, 0.0, 0.0, 0.016216643154621124, 0.0, 0.0, 0.5419661998748779, 0.006799497175961733, 0.0, 0.0, 0.0, 0.0, 0.5581648945808411, 0.0, 0.0, 0.0, 0.0, 0.0, 0.0, 0.0, 0.0, 0.006894370540976524, 0.0, 0.0, 0.0, 0.0, 0.0, 0.0, 0.0, 0.0, 0.0, 0.0, 0.008062508888542652, 0.0, 0.5509182214736938, 0.0, 0.0, 0.0, 0.0022983327507972717, 0.01589861884713173, 0.656137228012085, 0.0, 0.001243088860064745, 0.021957196295261383, 0.0, 0.0, 0.013771601021289825, 0.0, 0.007316669449210167, 0.005475141108036041, 0.0, 0.0, 0.009513188153505325, 0.0, 0.3958675265312195, 0.030056314542889595, 0.03714235872030258, 0.0, 0.011769276112318039, 0.534470796585083, 0.05189988762140274, 0.0, 0.0, 0.0017667746869847178, 0.011686745099723339, 0.007941063493490219, 0.0, 0.0, 0.0036440484691411257, 0.0, 0.00592432077974081, 0.022884532809257507, 0.001304536941461265, 0.01730877161026001, 0.04480305314064026, 0.28150689601898193, 0.0, 0.0, 0.20397497713565826, 0.03911540284752846, 0.002990411827340722, 0.003453731071203947, 0.03706347569823265, 0.6418632864952087, 0.010498261079192162, 0.002597092418000102, 0.0, 0.45681440830230713, 0.0011226333444938064, 0.06859244406223297, 0.02966638095676899, 0.0, 0.0, 0.030626758933067322, 0.008837689645588398, 0.0, 0.0, 0.0017769851256161928, 0.0216465275734663, 0.012903578579425812, 0.0, 0.0, 0.0, 0.0, 0.0, 0.018834419548511505, 0.0, 0.0, 0.0, 0.0, 0.0, 0.03068717010319233, 0.026408523321151733, 0.0, 0.013205636292696, 0.006337842438369989, 0.4080587923526764, 0.0, 0.0, 0.0, 0.0, 0.1088194027543068, 0.0, 0.0, 0.45987817645072937, 0.003353777341544628, 0.0, 0.0, 0.43010637164115906, 0.0, 0.0, 0.03092249482870102, 0.6846817135810852, 0.011734570376574993, 0.0, 0.0, 0.0, 0.0, 0.0, 0.0, 0.0, 0.0, 0.0, 0.005257276352494955, 0.3800499439239502, 0.0, 0.0, 0.0, 0.0, 0.056550197303295135, 0.0, 0.0, 0.0, 0.0, 0.0, 0.0, 0.1634574681520462, 0.0, 0.0, 0.09617351740598679, 0.0, 0.0, 0.0, 0.0, 0.0, 0.010899151675403118, 0.0, 0.0, 0.01028525922447443, 0.014619901776313782, 0.0, 0.0, 0.030651191249489784, 0.0, 0.0, 0.0, 0.0, 0.0, 0.0, 0.0, 0.17001822590827942, 0.0, 0.02672506310045719, 0.0, 0.0038983847480267286, 0.0, 0.021801605820655823, 0.0, 0.0, 0.01666654273867607, 0.0, 0.0, 0.0, 0.058735255151987076, 0.0, 0.0, 0.0029242776799947023, 0.012050135992467403, 0.0, 0.011825107038021088, 0.28029289841651917, 0.025731876492500305, 0.003195230383425951, 0.029689358547329903, 0.0, 0.04846230894327164, 0.018676862120628357, 0.031393732875585556, 0.034827981144189835, 0.004848962649703026, 0.0, 0.0041709537617862225, 0.10854939371347427, 0.0281780194491148, 0.0, 0.010179273784160614, 0.5597643256187439, 0.00816746149212122, 0.01058830413967371, 0.01661253534257412, 0.0, 0.0, 0.0, 0.0, 0.01712292805314064, 0.636289119720459, 0.0, 0.001660668640397489, 0.0, 0.0, 0.0, 0.025197474285960197, 0.0013391521060839295, 0.0, 0.01174202375113964, 0.04430440068244934, 0.0, 0.0, 0.006574324332177639, 9.931844397215173e-05, 0.04118267074227333, 0.023196443915367126, 0.01288917101919651, 0.023683786392211914, 0.016974197700619698, 0.0, 0.002370775444433093, 0.027002064511179924, 0.5186924338340759, 0.04548492282629013, 0.024971365928649902, 0.0015079983277246356, 0.06494341790676117, 0.6675406098365784, 0.03705716133117676, 0.031306225806474686, 0.045631472021341324, 0.04539718106389046, 0.653515100479126, 0.031103935092687607, 0.02976737543940544, 0.005336108151823282, 0.023641260340809822, 0.014498940669000149, 0.02380860596895218, 0.018048005178570747, 0.05946309119462967, 0.05488290637731552, 0.03309541940689087, 0.007904347032308578, 0.03209766745567322, 0.02209939993917942, 0.05397894233465195, 0.005794390570372343, 0.04741577431559563, 0.02332957088947296, 0.007587354630231857, 0.0, 0.021827630698680878, 0.03733033686876297, 0.5309430956840515, 0.05753083527088165, 0.028260650113224983, 0.610537588596344, 0.0, 0.0, 0.05977603793144226, 0.0, 0.0, 0.03255477547645569, 0.0425642766058445, 0.0, 0.0, 0.0, 0.0057276710867881775, 0.23743630945682526, 0.0, 0.0, 0.0, 0.09326735883951187, 0.0, 0.39674729108810425, 0.0, 0.0, 0.0, 0.0, 0.0, 0.0, 0.3950411081314087, 0.0, 0.008809058926999569, 0.0, 0.0, 0.0, 0.0, 0.0, 0.0, 0.45128333568573, 0.0, 0.0, 0.5240790247917175, 0.0, 0.0, 0.3973025381565094, 0.0, 0.0, 0.0, 0.0, 0.0, 0.0, 0.0, 0.364716500043869, 0.025447439402341843, 0.5850516557693481, 0.017874034121632576, 0.04708470404148102, 0.17139074206352234, 0.0, 0.0, 0.028478167951107025, 0.0026526288129389286, 0.030353495851159096, 0.03896115720272064, 0.009203139692544937, 0.0], [0.005780078936368227, 0.0, 0.0, 0.0, 0.0, 0.0, 0.0, 0.0, 0.0, 0.0, 0.0, 0.0, 0.0, 0.0, 0.06811175495386124, 0.020711036399006844, 0.0, 0.0, 0.0, 0.0, 0.0, 0.0, 0.0, 0.0, 0.0, 0.0, 0.0, 0.0, 0.0, 0.0, 0.0, 0.0, 0.0, 0.0, 0.0, 0.0, 0.0, 0.0, 0.0, 0.0, 0.0, 0.0, 0.0, 0.0, 0.0, 0.0, 0.0, 0.0, 0.0, 0.0, 0.0, 0.0, 0.0, 0.0, 0.0, 0.0, 0.0, 0.0, 0.0, 0.0, 0.0, 0.0, 0.0, 0.0, 0.0, 0.0, 0.0, 0.0, 0.0, 0.0, 0.0, 0.0, 0.0, 0.0, 0.0, 0.0, 0.0, 0.0, 0.0, 0.0, 0.0, 0.0, 0.0, 0.0, 0.0, 0.0, 0.0, 0.0, 0.0, 0.0, 0.0, 0.0, 0.003420452121645212, 0.00414028437808156, 0.0, 0.0, 0.0, 0.01854039914906025, 0.0, 0.0, 0.01452463399618864, 0.0, 0.0, 0.0, 0.0, 0.0032949859742075205, 0.0, 0.0, 0.0, 0.0, 0.0, 0.012741154059767723, 0.0, 0.0, 0.0, 0.012950939126312733, 0.0435698926448822, 0.008629536256194115, 0.0, 0.0, 0.0, 0.0172161515802145, 0.0, 0.026164375245571136, 0.01147776935249567, 0.010901936329901218, 0.0, 0.0, 0.057268157601356506, 0.03572561591863632, 0.05397941917181015, 0.0, 0.02077542059123516, 0.009941521100699902, 0.02147110551595688, 0.030938077718019485, 0.017047781497240067, 0.04866855591535568, 0.02573261968791485, 0.10084071755409241, 0.16380837559700012, 0.0771869570016861, 0.015501650981605053, 0.030065370723605156, 0.014462538994848728, 0.04004453122615814, 0.03972558304667473, 0.04045344889163971, 0.04805176705121994, 0.034261059015989304, 0.0, 0.0, 0.0, 0.0, 0.026055043563246727, 0.004888594150543213, 0.025072503834962845, 0.037390872836112976, 0.012521547265350819, 0.0, 0.0009272397146560252, 0.03436523303389549, 0.03984421119093895, 0.026433328166604042, 0.016149699687957764, 0.05392981320619583, 0.0262580756098032, 0.0, 0.021647023037075996, 0.0, 0.01395091600716114, 0.02356279455125332, 0.02941388264298439, 0.04429839551448822, 0.05045577883720398, 0.06233750283718109, 0.1122768446803093, 0.04317023605108261, 0.03300517797470093, 0.055650752037763596, 0.09841234982013702, 0.034319136291742325, 0.0833936557173729, 0.16206791996955872, 0.09173990041017532, 0.03337280824780464, 0.07828817516565323, 0.08696981519460678, 0.06663363426923752, 0.045972228050231934, 0.04308328405022621, 0.010272692888975143, 0.0, 0.031643353402614594, 0.025700820609927177, 0.03126521036028862, 0.01354386005550623, 0.046787455677986145, 0.03215533867478371, 0.0, 0.017778567969799042, 0.0, 0.0, 0.0008865101845003664, 0.008328675292432308, 0.0, 0.02747594192624092, 0.04244890809059143, 0.0, 0.0, 0.0, 0.02899383381009102, 0.10184518992900848, 0.0021048644557595253, 0.008481019176542759, 0.005855021998286247, 0.0, 0.0, 0.025282448157668114, 0.01955689676105976, 0.044074684381484985, 0.016803685575723648, 0.017106609418988228, 0.06880944222211838, 0.013178117573261261, 0.035909175872802734, 0.0, 0.0, 0.0, 0.0, 0.012627827934920788, 0.02464933507144451, 0.0, 0.004288681782782078, 0.0, 0.0, 0.0, 0.0, 0.0, 0.0, 0.0, 0.0, 0.0, 0.0, 0.0, 0.0, 0.0, 0.0, 0.0, 0.0, 0.0, 0.0, 0.0, 0.0, 0.0, 0.0, 0.0, 0.0, 0.0015310302842408419, 0.0, 0.02241489849984646, 0.0, 0.0, 0.0, 0.0, 0.0, 0.043552786111831665, 0.02277722768485546, 0.015258247032761574, 0.0, 0.024115746840834618, 0.0, 0.057089731097221375, 0.026781868189573288, 0.036434583365917206, 0.03205083683133125, 0.00017047235451173037, 0.0, 0.008890608325600624, 0.0327167846262455, 0.014307701960206032, 0.002595901722088456, 0.046587564051151276, 0.02217070758342743, 0.06168830767273903, 0.037992365658283234, 0.06362704932689667, 0.09962726384401321, 0.08184069395065308, 0.11010672897100449, 0.1116071566939354, 0.12161954492330551, 0.14362508058547974, 0.11398491263389587, 0.1833498477935791, 0.17647439241409302, 0.20691193640232086, 0.22138027846813202, 0.2652550935745239, 0.27336886525154114, 0.31713178753852844, 0.3060806095600128, 0.2767837345600128, 0.2785349488258362, 0.4335494041442871, 0.3105386197566986, 0.37636110186576843, 0.5018921494483948, 0.44880276918411255, 0.49669328331947327, 0.5752736330032349, 0.6637923121452332, 0.6262743473052979, 0.541179895401001, 0.5977603197097778, 0.5073145031929016, 0.7525203227996826, 0.8135493993759155, 0.8511601090431213, 0.6705965995788574, 0.4973394274711609, 0.7216327786445618, 0.8250115513801575, 0.6961309909820557, 0.6373841762542725, 0.7761058807373047, 0.712425947189331, 0.7771342396736145, 0.7991701364517212, 0.6168468594551086, 0.8360034823417664, 0.747685432434082, 0.7399193644523621, 0.8193154335021973, 0.696093738079071, 0.6612500548362732, 0.5162658095359802, 0.6592874526977539, 0.6058825850486755, 0.5041602253913879, 0.49729859828948975, 0.631650447845459, 0.45969071984291077, 0.4843299388885498, 0.478231281042099, 0.5990074872970581, 0.7403576374053955, 0.5963922739028931, 0.4618666172027588, 0.5037338137626648, 0.5607437491416931, 0.44780197739601135, 0.5547248125076294, 0.5364440679550171, 0.39542704820632935, 0.42218655347824097, 0.43756869435310364, 0.46874862909317017, 0.31287792325019836, 0.3331540822982788, 0.27303779125213623, 0.32912972569465637, 0.0076823546551167965], [0.03373022750020027, 0.1973070502281189, 0.23595988750457764, 0.18636232614517212, 0.25985461473464966, 0.24573159217834473, 0.2846260666847229, 0.2338993400335312, 0.3712499439716339, 0.14430095255374908, 0.6157134771347046, 0.11168278008699417, 0.25955450534820557, 0.16741976141929626, 0.33590054512023926, 0.533527672290802, 0.2356046885251999, 0.11581501364707947, 0.5183753371238708, 0.16550078988075256, 0.06027572602033615, 0.20114390552043915, 0.07087898999452591, 0.30935969948768616, 0.1490778625011444, 0.3254096806049347, 0.1142711341381073, 0.0792255625128746, 0.19929613173007965, 0.062437742948532104, 0.14713731408119202, 0.48846176266670227, 0.5519534945487976, 0.13764962553977966, 0.5843360424041748, 0.03259628638625145, 0.06941231340169907, 0.1637388914823532, 0.3091316521167755, 0.16150017082691193, 0.2530505061149597, 0.0, 0.6173016428947449, 0.03411851450800896, 0.19024355709552765, 0.3168011009693146, 0.19916057586669922, 0.41259804368019104, 0.5677627921104431, 0.09909431636333466, 0.1456701159477234, 0.1412956416606903, 0.08245693147182465, 0.08026210218667984, 0.003960596397519112, 0.10866224020719528, 0.10142828524112701, 0.27128496766090393, 0.055958863347768784, 0.062346749007701874, 0.22384044528007507, 0.1345050036907196, 0.1458277553319931, 0.36492589116096497, 0.12252722680568695, 0.1785193234682083, 0.024320069700479507, 0.14397935569286346, 0.056943003088235855, 0.0, 0.1893770545721054, 0.03548238426446915, 0.04846443608403206, 0.2922617197036743, 0.5213718414306641, 0.004569981712847948, 0.48954808712005615, 0.10984213650226593, 0.002988658845424652, 0.0, 0.0, 0.0, 0.06530468165874481, 0.18587522208690643, 0.48902493715286255, 0.06719354540109634, 0.06685694307088852, 0.09669235348701477, 0.017705673351883888, 0.1324862539768219, 0.05321676284074783, 0.0, 0.05320966616272926, 0.0, 0.0, 0.04261911287903786, 0.11087503284215927, 0.2757163643836975, 0.0035108684096485376, 0.0011044827988371253, 0.047185417264699936, 0.0, 0.0, 0.046920694410800934, 0.0, 0.12230392545461655, 0.0, 0.06116481125354767, 0.0, 0.0, 0.0, 0.4518638551235199, 0.21607473492622375, 0.01013406552374363, 0.0, 0.09786923229694366, 0.42602089047431946, 0.22347700595855713, 0.0774698331952095, 0.12017476558685303, 0.02413327991962433, 0.1884777843952179, 0.0, 0.09612783789634705, 0.07078268378973007, 0.041525814682245255, 0.336599200963974, 0.022383050993084908, 0.3327244222164154, 0.2614714205265045, 0.3247613310813904, 0.10130481421947479, 0.1751009076833725, 0.12282177805900574, 0.21896880865097046, 0.06826698035001755, 0.03669004514813423, 0.0864173173904419, 0.1106952503323555, 0.2366376668214798, 0.2692413628101349, 0.231328085064888, 0.19845208525657654, 0.07551730424165726, 0.07319339364767075, 0.2265867292881012, 0.22736771404743195, 0.049381401389837265, 0.017555249854922295, 0.363231897354126, 0.09214293211698532, 0.051112860441207886, 0.06991930305957794, 0.39474722743034363, 0.032038364559412, 0.16272635757923126, 0.11068598181009293, 0.45288166403770447, 0.2098885476589203, 0.44122079014778137, 0.09103509038686752, 0.5271982550621033, 0.07477465271949768, 0.05032338201999664, 0.028658509254455566, 0.19204570353031158, 0.1509259194135666, 0.2894827723503113, 0.2730088233947754, 0.24989047646522522, 0.08524152636528015, 0.02225375548005104, 0.0, 0.2556670010089874, 0.05272645130753517, 0.12204878032207489, 0.2708966135978699, 0.06376148760318756, 0.1860327571630478, 0.1928035318851471, 0.5606962442398071, 0.04014614596962929, 0.5591556429862976, 0.4943321645259857, 0.017014360055327415, 0.047548867762088776, 0.25764575600624084, 0.5411525964736938, 0.09929345548152924, 0.5831480026245117, 0.07919784635305405, 0.0007097870111465454, 0.4133922755718231, 0.08287635445594788, 0.22164778411388397, 0.09109745919704437, 0.23057051002979279, 0.07023008912801743, 0.18087060749530792, 0.033983148634433746, 0.21158255636692047, 0.08877681940793991, 0.330215185880661, 0.010518381372094154, 0.06098347157239914, 0.07712830603122711, 0.23645877838134766, 0.4621007442474365, 0.0, 0.0, 0.0, 0.15106484293937683, 0.14610068500041962, 0.08734685927629471, 0.10274621844291687, 0.04808007925748825, 0.0, 0.07883940637111664, 0.0, 0.044225938618183136, 0.14374321699142456, 0.026696430519223213, 0.14580367505550385, 0.40393221378326416, 0.0, 0.10196641832590103, 0.0, 0.0, 0.0, 0.07824203372001648, 0.09978868067264557, 0.10567743331193924, 0.0, 0.3799467086791992, 0.0, 0.2663843333721161, 0.04897274076938629, 0.0, 0.1924842745065689, 0.0, 0.0, 0.0, 0.0, 0.0, 0.0, 0.024844519793987274, 0.03647292032837868, 0.0, 0.0, 0.0, 0.0, 0.0, 0.046264950186014175, 0.11135943979024887, 0.10483136773109436, 0.0, 0.15411250293254852, 0.45307379961013794, 0.0, 0.013645816594362259, 0.05372460186481476, 0.0, 0.0, 0.0, 0.22489573061466217, 0.0, 0.06953687220811844, 0.0, 0.0, 0.0, 0.0, 0.0, 0.0, 0.015428394079208374, 0.0, 0.0, 0.0, 0.0, 0.021409913897514343, 0.007242016494274139, 0.05223320424556732, 0.0, 0.12751129269599915, 0.0, 0.0, 0.0, 0.0, 0.0, 0.04171812906861305, 0.0, 0.11090516299009323, 0.38317498564720154, 0.17114239931106567, 0.0, 0.0, 0.0, 0.1924706995487213, 0.0, 0.045475073158741, 0.0, 0.0, 0.0, 0.0, 0.0, 0.32875344157218933, 0.0, 0.13490112125873566, 0.43105417490005493, 0.0, 0.0, 0.0, 0.011700435541570187, 0.07270413637161255, 0.0, 0.0, 0.0, 0.0, 0.05031764879822731, 0.096604123711586, 0.0, 0.0, 0.0, 0.28318628668785095, 0.003921307623386383, 0.0, 0.1403043419122696, 0.0, 0.1564105749130249, 0.15364328026771545, 0.0, 0.0, 0.0, 0.0, 0.040286220610141754, 0.17905648052692413, 0.0, 0.0, 0.0, 0.0, 0.0, 0.0, 0.0554540790617466, 0.0, 0.0, 0.0, 0.05248187109827995, 0.03563935309648514, 0.0, 0.0, 0.0, 0.17305342853069305, 0.0, 0.12123299390077591, 0.3383514881134033, 0.0, 0.052204281091690063, 0.06319505721330643, 0.37826600670814514, 0.0, 0.0899980440735817, 0.0, 0.0, 0.22903764247894287], [0.029995786026120186, 0.048085130751132965, 0.0, 0.1974327564239502, 0.02789510041475296, 0.043127138167619705, 0.04751584678888321, 0.029963094741106033, 0.04833807423710823, 0.29948773980140686, 0.0, 0.18131200969219208, 0.06753478944301605, 0.0, 0.0, 0.0, 0.123551145195961, 0.32858332991600037, 0.02298327349126339, 0.29730352759361267, 0.4012452960014343, 0.02469830960035324, 0.31243079900741577, 0.17140179872512817, 0.0, 0.0846443921327591, 0.2871112823486328, 0.31761330366134644, 0.0, 0.35091307759284973, 0.0, 0.006618720479309559, 0.0, 0.24638822674751282, 0.0, 0.353693425655365, 0.0, 0.022723380476236343, 0.0, 0.1829187124967575, 0.03304470330476761, 0.4031003415584564, 0.0, 0.3785799443721771, 0.0, 0.047553643584251404, 0.18084268271923065, 0.036760419607162476, 0.0, 0.2551780641078949, 0.007793688215315342, 0.18325184285640717, 0.0, 0.29377153515815735, 0.397691011428833, 0.0, 0.09526359289884567, 0.0, 0.0, 0.06068244203925133, 0.11703332513570786, 0.17461441457271576, 0.1637093424797058, 0.0, 0.19028878211975098, 0.012325964868068695, 0.32486337423324585, 0.0004355166747700423, 0.32559043169021606, 0.46313604712486267, 0.0, 0.35750338435173035, 0.10381757467985153, 0.05971581116318703, 0.0, 0.3429437577724457, 0.0, 0.0, 0.2715166509151459, 0.0, 0.0, 0.08087409287691116, 0.0844893530011177, 0.11736821383237839, 0.015340941958129406, 0.37190842628479004, 0.30645743012428284, 0.2275686264038086, 0.32892096042633057, 0.0241378340870142, 0.352658748626709, 0.38896462321281433, 0.013179200701415539, 0.18411286175251007, 0.0, 0.2915915548801422, 0.06562676280736923, 0.10209473222494125, 0.43642330169677734, 0.3734922409057617, 0.0011485806899145246, 0.0, 0.0, 0.095705047249794, 0.36968791484832764, 0.04370246082544327, 0.4555111229419708, 0.0042999135330319405, 0.0037437081336975098, 0.4051242470741272, 0.4062016010284424, 0.026320472359657288, 0.1736854910850525, 0.44575318694114685, 0.4003395438194275, 0.027934720739722252, 0.0, 0.1661592423915863, 0.33979132771492004, 0.23295819759368896, 0.3218157887458801, 0.18372370302677155, 0.4142104983329773, 0.23049916326999664, 0.008464781567454338, 0.2084990292787552, 0.0, 0.4090067446231842, 0.07612001150846481, 0.09124326705932617, 0.06674027442932129, 0.3284170627593994, 0.2324967086315155, 0.23257535696029663, 0.0, 0.37258633971214294, 0.3988041281700134, 0.2708452641963959, 0.0, 0.0, 0.0, 0.07622425258159637, 0.0, 0.38677889108657837, 0.37323054671287537, 0.0, 0.0, 0.3787189722061157, 0.4159028232097626, 0.0, 0.0, 0.013700727373361588, 0.3406822085380554, 0.0, 0.44690513610839844, 0.0, 0.19318699836730957, 0.0, 0.14605066180229187, 0.0, 0.36538735032081604, 0.0, 0.13338667154312134, 0.010318487882614136, 0.0, 0.031752314418554306, 0.08485479652881622, 0.0, 0.028547486290335655, 0.06434192508459091, 0.3638646900653839, 0.016088247299194336, 0.0, 0.0, 0.2433265894651413, 0.09683472663164139, 0.008112072944641113, 0.2993050813674927, 0.0, 0.03296453505754471, 0.0, 0.35763537883758545, 0.0, 0.0, 0.37097465991973877, 0.0, 0.0, 0.0, 0.3063446283340454, 0.0, 0.2909482717514038, 0.37154799699783325, 0.0, 0.30383580923080444, 0.026020383462309837, 0.26665258407592773, 0.0, 0.18512463569641113, 0.0555872805416584, 0.0, 0.06686124205589294, 0.2362048476934433, 0.0, 0.3942875266075134, 0.19180455803871155, 0.055413868278265, 0.055508799850940704, 0.0, 0.3338901996612549, 0.0, 0.0, 0.0, 0.0, 0.039120037108659744, 0.12046364694833755, 0.060883719474077225, 0.06886456161737442, 0.04556833207607269, 0.18050236999988556, 0.16630937159061432, 0.06997803598642349, 0.22036464512348175, 0.05002285912632942, 0.013513973914086819, 0.3770522177219391, 0.043587010353803635, 0.32733041048049927, 0.0, 0.04033191502094269, 0.046273261308670044, 0.05465729534626007, 0.0398830883204937, 0.33378133177757263, 0.006897480692714453, 0.03126642853021622, 0.04271402582526207, 0.2580338716506958, 0.3079157769680023, 0.0, 0.3961191177368164, 0.0, 0.033880461007356644, 0.06830134987831116, 0.0, 0.0, 0.060085590928792953, 0.21919044852256775, 0.41432273387908936, 0.0, 0.0, 0.0, 0.3634015619754791, 0.18995517492294312, 0.12522532045841217, 0.21092107892036438, 0.3478885591030121, 0.11475738883018494, 0.004328504204750061, 0.3304064869880676, 0.29961055517196655, 0.22986066341400146, 0.3194381296634674, 0.009127847850322723, 0.18629148602485657, 0.0, 0.37916144728660583, 0.020761532709002495, 0.2999231815338135, 0.0009727037977427244, 0.0, 0.042764946818351746, 0.0, 0.0806601271033287, 0.06407924741506577, 0.22947455942630768, 0.22989991307258606, 0.0, 0.021820764988660812, 0.2553236782550812, 0.2802274227142334, 0.2553981840610504, 0.40315040946006775, 0.03671516850590706, 0.39635220170021057, 0.013513469137251377, 0.014825143851339817, 0.24606262147426605, 0.27456727623939514, 0.26073920726776123, 0.41217294335365295, 0.13501125574111938, 0.010690398514270782, 0.08313459903001785, 0.31691932678222656, 0.0, 0.08853857219219208, 0.0, 0.3509698510169983, 0.025727394968271255, 0.27921634912490845, 0.0877518504858017, 0.0, 0.0, 0.3703838288784027, 0.01362570095807314, 0.34806346893310547, 0.1758243292570114, 0.0, 0.1942547857761383, 0.0, 0.0, 0.0, 0.055152084678411484, 0.13449682295322418, 0.0, 0.3237887918949127, 0.0, 0.0, 0.0, 0.0, 0.32002153992652893, 0.0, 0.0, 0.21209432184696198, 0.25198662281036377, 0.05655956640839577, 0.0, 0.0, 0.02234743908047676, 0.21049195528030396, 0.0, 0.0, 0.0, 0.009424279443919659, 0.013929056003689766, 0.0, 0.27954208850860596, 0.164289191365242, 0.0, 0.0, 0.3411516845226288, 0.0, 0.2757277488708496, 0.0, 0.0, 0.0, 0.0, 0.0, 0.3287464380264282, 0.06093249097466469, 0.0, 0.0, 0.0, 0.0, 0.18762607872486115, 0.0, 0.027369573712348938, 0.0, 0.35129058361053467, 0.02582613378763199, 0.27680274844169617, 0.07430832833051682, 0.02126411721110344], [0.019907547160983086, 0.1729615330696106, 0.0, 0.0, 0.005362687166780233, 0.13715888559818268, 0.0642218217253685, 0.0, 0.0, 0.0, 0.0, 0.0, 0.1593942940235138, 0.0, 0.0, 0.0, 0.0, 0.0, 0.0, 0.0, 0.0, 0.10248703509569168, 0.0, 0.00024871440837159753, 0.0, 0.018510805442929268, 0.0, 0.0, 0.0, 0.0, 0.0, 0.013649621978402138, 0.0, 0.0, 0.0, 0.0, 0.0, 0.2516510486602783, 0.27586156129837036, 0.06483814120292664, 0.21984826028347015, 0.0, 0.0, 0.0, 0.0, 0.0, 0.016925819218158722, 0.015296624042093754, 0.0, 0.0, 0.16164696216583252, 0.06691069900989532, 0.0, 0.0, 0.0, 0.021687164902687073, 0.23468685150146484, 0.2977691888809204, 0.02551771141588688, 0.04008162394165993, 0.019739694893360138, 0.08407915383577347, 0.09154178947210312, 0.0, 0.03957796469330788, 0.23800887167453766, 0.0, 0.01527144480496645, 0.005785593297332525, 0.0, 0.2807638645172119, 0.014230244792997837, 0.020376071333885193, 0.036252979189157486, 0.0, 0.0, 0.00974416546523571, 0.0, 0.0, 0.0, 0.5951439738273621, 0.3526802062988281, 0.28150326013565063, 0.131422221660614, 0.05360950529575348, 0.007671152241528034, 0.029941469430923462, 0.04173807054758072, 0.0047397492453455925, 0.02655501663684845, 0.012419424019753933, 0.0, 0.0, 0.023315340280532837, 0.0, 0.0, 0.046304065734148026, 0.05936898663640022, 0.0012281538220122457, 0.0, 0.029026450589299202, 0.03821409121155739, 0.0, 0.19374214112758636, 0.0, 0.0, 0.0, 0.31703686714172363, 0.0, 0.008726323954761028, 0.0, 0.030032549053430557, 0.06867676228284836, 0.0, 0.0, 0.010159832425415516, 0.09464603662490845, 0.07494068890810013, 0.008173249661922455, 0.03422997146844864, 0.0, 0.012706928886473179, 0.0, 0.0, 0.0, 0.19161157310009003, 0.0, 0.0, 0.020626742392778397, 0.0944838598370552, 0.0390225388109684, 0.0, 0.0, 0.0, 0.0, 0.0, 0.0, 0.0, 0.0, 0.14666616916656494, 0.04225233197212219, 0.1598767787218094, 0.0, 0.0, 0.0, 0.0, 0.0, 0.0, 0.0, 0.18288369476795197, 0.0, 0.0, 0.0, 0.0, 0.0, 0.0, 0.17896729707717896, 0.11226554214954376, 0.1035267785191536, 0.0, 0.0, 0.013271271251142025, 0.0037049027159810066, 0.41949233412742615, 0.45643332600593567, 0.24019645154476166, 0.20249058306217194, 0.20302337408065796, 0.03745971992611885, 0.12929445505142212, 0.023174239322543144, 0.42202961444854736, 0.45040297508239746, 0.2590561509132385, 0.012909078039228916, 0.12224280089139938, 0.0, 0.0, 0.3396219313144684, 0.21252475678920746, 0.0, 0.0, 0.0, 0.0, 0.0, 0.0, 0.20253883302211761, 0.0, 0.0, 0.0, 0.0, 0.0, 0.0, 0.02314203418791294, 0.20250293612480164, 0.10820325464010239, 0.33602175116539, 0.15432694554328918, 0.07857941836118698, 0.0, 0.021019678562879562, 0.0471285879611969, 0.02737053483724594, 0.011198685504496098, 0.1358811855316162, 0.34969937801361084, 0.13406550884246826, 0.04879140853881836, 0.026130245998501778, 0.02188442088663578, 0.6428024172782898, 0.40016674995422363, 0.19524642825126648, 0.3028079569339752, 0.24830107390880585, 0.3404301702976227, 0.4088963270187378, 0.290511816740036, 0.0534089095890522, 0.18351542949676514, 0.10055775195360184, 0.1493343859910965, 0.3414059579372406, 0.09274836629629135, 0.042119625955820084, 0.334305077791214, 0.07214438170194626, 0.12674406170845032, 0.4327181577682495, 0.31434112787246704, 0.209925577044487, 0.13009929656982422, 0.07098392397165298, 0.10230313241481781, 0.07940880209207535, 0.13003450632095337, 0.0579264871776104, 0.0644066259264946, 0.29165932536125183, 0.04814152419567108, 0.09900601208209991, 0.407784640789032, 0.3644709587097168, 0.09518499672412872, 0.05055364966392517, 0.24709737300872803, 0.10032039880752563, 0.04162297397851944, 0.04325582832098007, 0.4670824706554413, 0.08988968282938004, 0.08345011621713638, 0.11907502263784409, 0.16386297345161438, 0.12812815606594086, 0.0534745529294014, 0.1990298181772232, 0.13519537448883057, 0.08521190285682678, 0.07750491052865982, 0.0864633247256279, 0.040843479335308075, 0.07111509889364243, 0.2718031704425812, 0.10658447444438934, 0.03644818812608719, 0.057229384779930115, 0.058644361793994904, 0.07286936044692993, 0.6892769932746887, 0.3498768210411072, 0.09123864769935608, 0.12194819748401642, 0.25047487020492554, 0.08159402757883072, 0.0790257453918457, 0.04577451944351196, 0.0, 0.054751161485910416, 0.05033376067876816, 0.03136669844388962, 0.0, 0.27659082412719727, 0.0, 0.06504576653242111, 0.06709592789411545, 0.08487686514854431, 0.057883258908987045, 0.04944508522748947, 0.0030002580024302006, 0.09613577276468277, 0.09761705249547958, 0.16105717420578003, 0.05123399943113327, 0.009462006390094757, 0.322693407535553, 0.04519588500261307, 0.0, 0.0, 0.0, 0.16545669734477997, 0.015131055377423763, 0.0, 0.0, 0.0, 0.0, 0.0346449539065361, 0.0, 0.022664569318294525, 0.0, 0.503716766834259, 0.27887094020843506, 0.1465318650007248, 0.0, 0.0, 0.0, 0.14764556288719177, 0.0710591971874237, 0.0, 0.0, 0.0, 0.0, 0.0, 0.0, 0.0, 0.0, 0.0, 0.1081763282418251, 0.015621487982571125, 0.0, 0.07324837893247604, 0.0, 0.02337629161775112, 0.04345991089940071, 0.02529751881957054, 0.0, 0.0, 0.015626085922122, 0.0, 0.0, 0.0, 0.0, 0.0, 0.3689984381198883, 0.4436776638031006, 0.3477820158004761, 0.21740002930164337, 0.016966119408607483, 0.0, 0.007479468360543251, 0.20346464216709137, 0.0, 0.0, 0.0, 0.0, 0.33492711186408997, 0.20582152903079987, 0.0046551120467484, 0.0, 0.25581663846969604, 0.01366922166198492, 0.19325348734855652, 0.037450164556503296]]]},\n            {\n            'hltrCFG': {'tokenization_config': {\"token_prefix\": \"\", \"partial_token_prefix\": \"##\"}\n                }\n            })\n         }, function (err) {\n            console.log(err);\n        })",
      "text/plain": [
       "<IPython.core.display.Javascript object>"
      ]
     },
     "metadata": {},
     "output_type": "display_data"
    }
   ],
   "source": [
    "import ecco\n",
    "lm = ecco.from_pretrained('distilbert-base-uncased', activations=True)\n",
    "#lm = ecco.from_pretrained('gpt2', activations=True)\n",
    "text = ''' Now I ask you: \\n what can be expected of man since he is a being endowed with strange qualities? Shower upon him every earthly blessing, drown him in a sea of happiness, so that nothing but bubbles of bliss can be seen on the surface; give him economic prosperity, such that he should have nothing else to do but sleep, eat cakes and busy himself with the continuation of his species, and even then out of sheer ingratitude, sheer spite, man would play you some nasty trick. He would even risk his cakes and would deliberately desire the most fatal rubbish, the most uneconomical absurdity, simply to introduce into all this positive good sense his fatal fantastic element. It is just his fantastic dreams, his vulgar folly that he will desire to retain, simply in order to prove to himself--as though that were so necessary-- that men still are men and not the keys of a piano, which the laws of nature threaten to control so completely that soon one will be able to desire nothing but by the calendar. And that is not all: even if man really were nothing but a piano-key, even if this were proved to him by natural science and mathematics, even then he would not become reasonable, but would purposely do something perverse out of simple ingratitude, simply to gain his point. And if he does not find means he will contrive destruction and chaos, will contrive sufferings of all sorts, only to gain his point! He will launch a curse upon the world, and as only man can curse (it is his privilege, the primary distinction between him and other animals), may be by his curse alone he will attain his object--that is, convince himself that he is a man and not a piano-key!\n",
    "'''\n",
    "inputs = lm.tokenizer([text], return_tensors=\"pt\")\n",
    "output = lm(inputs)\n",
    "nmf_1 = output.run_nmf(n_components=8) \n",
    "nmf_1.explore()"
   ]
  },
  {
   "cell_type": "code",
   "execution_count": 7,
   "id": "15f36e34",
   "metadata": {},
   "outputs": [
    {
     "ename": "ValueError",
     "evalue": "(\"The model 'gpt2-base-uncased' is not defined in Ecco's 'model-config.yaml' file and so is not explicitly supported yet. Supported models are:\", ['gpt2', 'gpt2-medium', 'gpt2-xl', 'distilgpt2', 'distilbert-base-uncased', 'bert-base-uncased', 'bert-large-uncased', 'distilbert-base-uncased-finetuned-sst-2-english', 'microsoft/BiomedNLP-PubMedBERT-base-uncased-abstract', 'albert-base-v2', 'albert-large-v2', 'albert-xxlarge-v2', 'distilroberta-base', 'roberta-base', 'roberta-large', 'google/electra-small-discriminator', 'google/electra-base-discriminator', 'sentence-transformers/distilbert-base-nli-stsb-mean-tokens', 't5-small', 't5-base', 'bigscience/T0_3B', 'bigscience/T0', 'bigscience/T0p', 'bigscience/T0pp', 'tscholak/1wnr382e', 'valhalla/t5-small-qg-hl', 'valhalla/t5-small-qa-qg-hl', 'valhalla/t5-base-e2e-qg', 'facebook/bart-large-mnli', 'sshleifer/tiny-gpt2', 'julien-c/bert-xsmall-dummy', 'EleutherAI/gpt-neo-125M', 'EleutherAI/gpt-neo-1.3B', 'EleutherAI/gpt-neo-2.7B'])",
     "output_type": "error",
     "traceback": [
      "\u001b[1;31m---------------------------------------------------------------------------\u001b[0m",
      "\u001b[1;31mKeyError\u001b[0m                                  Traceback (most recent call last)",
      "\u001b[1;31mKeyError\u001b[0m: ",
      "\nThe above exception was the direct cause of the following exception:\n",
      "\u001b[1;31mValueError\u001b[0m                                Traceback (most recent call last)",
      "\u001b[1;32m~\\AppData\\Local\\Temp\\ipykernel_19724\\506973736.py\u001b[0m in \u001b[0;36m<module>\u001b[1;34m\u001b[0m\n\u001b[0;32m      1\u001b[0m \u001b[1;32mimport\u001b[0m \u001b[0mecco\u001b[0m\u001b[1;33m\u001b[0m\u001b[1;33m\u001b[0m\u001b[0m\n\u001b[0;32m      2\u001b[0m \u001b[1;31m#lm = ecco.from_pretrained('distilbert-base-uncased', activations=True)\u001b[0m\u001b[1;33m\u001b[0m\u001b[1;33m\u001b[0m\u001b[0m\n\u001b[1;32m----> 3\u001b[1;33m \u001b[0mlm\u001b[0m \u001b[1;33m=\u001b[0m \u001b[0mecco\u001b[0m\u001b[1;33m.\u001b[0m\u001b[0mfrom_pretrained\u001b[0m\u001b[1;33m(\u001b[0m\u001b[1;34m'gpt2-base-uncased'\u001b[0m\u001b[1;33m,\u001b[0m \u001b[0mactivations\u001b[0m\u001b[1;33m=\u001b[0m\u001b[1;32mTrue\u001b[0m\u001b[1;33m)\u001b[0m\u001b[1;33m\u001b[0m\u001b[1;33m\u001b[0m\u001b[0m\n\u001b[0m\u001b[0;32m      4\u001b[0m text = ''' Now I ask you: \\n what can be expected of man since he is a being endowed with strange qualities? Shower upon him every earthly blessing, drown him in a sea of happiness, so that nothing but bubbles of bliss can be seen on the surface; give him economic prosperity, such that he should have nothing else to do but sleep, eat cakes and busy himself with the continuation of his species, and even then out of sheer ingratitude, sheer spite, man would play you some nasty trick. He would even risk his cakes and would deliberately desire the most fatal rubbish, the most uneconomical absurdity, simply to introduce into all this positive good sense his fatal fantastic element. It is just his fantastic dreams, his vulgar folly that he will desire to retain, simply in order to prove to himself--as though that were so necessary-- that men still are men and not the keys of a piano, which the laws of nature threaten to control so completely that soon one will be able to desire nothing but by the calendar. And that is not all: even if man really were nothing but a piano-key, even if this were proved to him by natural science and mathematics, even then he would not become reasonable, but would purposely do something perverse out of simple ingratitude, simply to gain his point. And if he does not find means he will contrive destruction and chaos, will contrive sufferings of all sorts, only to gain his point! He will launch a curse upon the world, and as only man can curse (it is his privilege, the primary distinction between him and other animals), may be by his curse alone he will attain his object--that is, convince himself that he is a man and not a piano-key!\n\u001b[0;32m      5\u001b[0m '''\n",
      "\u001b[1;32m~\\AppData\\Local\\Packages\\PythonSoftwareFoundation.Python.3.9_qbz5n2kfra8p0\\LocalCache\\local-packages\\Python39\\site-packages\\ecco\\__init__.py\u001b[0m in \u001b[0;36mfrom_pretrained\u001b[1;34m(hf_model_id, model_config, activations, attention, hidden_states, activations_layer_nums, verbose, gpu)\u001b[0m\n\u001b[0;32m     70\u001b[0m         \u001b[0mconfig\u001b[0m \u001b[1;33m=\u001b[0m \u001b[0mpack_tokenizer_config\u001b[0m\u001b[1;33m(\u001b[0m\u001b[0mmodel_config\u001b[0m\u001b[1;33m)\u001b[0m\u001b[1;33m\u001b[0m\u001b[1;33m\u001b[0m\u001b[0m\n\u001b[0;32m     71\u001b[0m     \u001b[1;32melse\u001b[0m\u001b[1;33m:\u001b[0m\u001b[1;33m\u001b[0m\u001b[1;33m\u001b[0m\u001b[0m\n\u001b[1;32m---> 72\u001b[1;33m         \u001b[0mconfig\u001b[0m \u001b[1;33m=\u001b[0m \u001b[0mload_config\u001b[0m\u001b[1;33m(\u001b[0m\u001b[0mhf_model_id\u001b[0m\u001b[1;33m)\u001b[0m\u001b[1;33m\u001b[0m\u001b[1;33m\u001b[0m\u001b[0m\n\u001b[0m\u001b[0;32m     73\u001b[0m \u001b[1;33m\u001b[0m\u001b[0m\n\u001b[0;32m     74\u001b[0m     \u001b[0mtokenizer\u001b[0m \u001b[1;33m=\u001b[0m \u001b[0mAutoTokenizer\u001b[0m\u001b[1;33m.\u001b[0m\u001b[0mfrom_pretrained\u001b[0m\u001b[1;33m(\u001b[0m\u001b[0mhf_model_id\u001b[0m\u001b[1;33m)\u001b[0m\u001b[1;33m\u001b[0m\u001b[1;33m\u001b[0m\u001b[0m\n",
      "\u001b[1;32m~\\AppData\\Local\\Packages\\PythonSoftwareFoundation.Python.3.9_qbz5n2kfra8p0\\LocalCache\\local-packages\\Python39\\site-packages\\ecco\\util.py\u001b[0m in \u001b[0;36mload_config\u001b[1;34m(model_name)\u001b[0m\n\u001b[0;32m     22\u001b[0m         \u001b[0mmodel_config\u001b[0m \u001b[1;33m=\u001b[0m \u001b[0mpack_tokenizer_config\u001b[0m\u001b[1;33m(\u001b[0m\u001b[0mmodel_config\u001b[0m\u001b[1;33m)\u001b[0m\u001b[1;33m\u001b[0m\u001b[1;33m\u001b[0m\u001b[0m\n\u001b[0;32m     23\u001b[0m     \u001b[1;32mexcept\u001b[0m \u001b[0mKeyError\u001b[0m\u001b[1;33m:\u001b[0m\u001b[1;33m\u001b[0m\u001b[1;33m\u001b[0m\u001b[0m\n\u001b[1;32m---> 24\u001b[1;33m         raise ValueError(\n\u001b[0m\u001b[0;32m     25\u001b[0m                 \u001b[1;34mf\"The model '{model_name}' is not defined in Ecco's 'model-config.yaml' file and\"\u001b[0m\u001b[1;33m\u001b[0m\u001b[1;33m\u001b[0m\u001b[0m\n\u001b[0;32m     26\u001b[0m                 \u001b[1;34mf\" so is not explicitly supported yet. Supported models are:\"\u001b[0m\u001b[1;33m,\u001b[0m\u001b[1;33m\u001b[0m\u001b[1;33m\u001b[0m\u001b[0m\n",
      "\u001b[1;31mValueError\u001b[0m: (\"The model 'gpt2-base-uncased' is not defined in Ecco's 'model-config.yaml' file and so is not explicitly supported yet. Supported models are:\", ['gpt2', 'gpt2-medium', 'gpt2-xl', 'distilgpt2', 'distilbert-base-uncased', 'bert-base-uncased', 'bert-large-uncased', 'distilbert-base-uncased-finetuned-sst-2-english', 'microsoft/BiomedNLP-PubMedBERT-base-uncased-abstract', 'albert-base-v2', 'albert-large-v2', 'albert-xxlarge-v2', 'distilroberta-base', 'roberta-base', 'roberta-large', 'google/electra-small-discriminator', 'google/electra-base-discriminator', 'sentence-transformers/distilbert-base-nli-stsb-mean-tokens', 't5-small', 't5-base', 'bigscience/T0_3B', 'bigscience/T0', 'bigscience/T0p', 'bigscience/T0pp', 'tscholak/1wnr382e', 'valhalla/t5-small-qg-hl', 'valhalla/t5-small-qa-qg-hl', 'valhalla/t5-base-e2e-qg', 'facebook/bart-large-mnli', 'sshleifer/tiny-gpt2', 'julien-c/bert-xsmall-dummy', 'EleutherAI/gpt-neo-125M', 'EleutherAI/gpt-neo-1.3B', 'EleutherAI/gpt-neo-2.7B'])"
     ]
    }
   ],
   "source": [
    "import ecco\n",
    "#lm = ecco.from_pretrained('distilbert-base-uncased', activations=True)\n",
    "lm = ecco.from_pretrained('gpt2-base-uncased', activations=True)\n",
    "text = ''' Now I ask you: \\n what can be expected of man since he is a being endowed with strange qualities? Shower upon him every earthly blessing, drown him in a sea of happiness, so that nothing but bubbles of bliss can be seen on the surface; give him economic prosperity, such that he should have nothing else to do but sleep, eat cakes and busy himself with the continuation of his species, and even then out of sheer ingratitude, sheer spite, man would play you some nasty trick. He would even risk his cakes and would deliberately desire the most fatal rubbish, the most uneconomical absurdity, simply to introduce into all this positive good sense his fatal fantastic element. It is just his fantastic dreams, his vulgar folly that he will desire to retain, simply in order to prove to himself--as though that were so necessary-- that men still are men and not the keys of a piano, which the laws of nature threaten to control so completely that soon one will be able to desire nothing but by the calendar. And that is not all: even if man really were nothing but a piano-key, even if this were proved to him by natural science and mathematics, even then he would not become reasonable, but would purposely do something perverse out of simple ingratitude, simply to gain his point. And if he does not find means he will contrive destruction and chaos, will contrive sufferings of all sorts, only to gain his point! He will launch a curse upon the world, and as only man can curse (it is his privilege, the primary distinction between him and other animals), may be by his curse alone he will attain his object--that is, convince himself that he is a man and not a piano-key!\n",
    "'''\n",
    "inputs = lm.tokenizer([text], return_tensors=\"pt\")\n",
    "output = lm(inputs)\n",
    "nmf_1 = output.run_nmf(n_components=8) \n",
    "nmf_1.explore()"
   ]
  }
 ],
 "metadata": {
  "kernelspec": {
   "display_name": "Python 3 (ipykernel)",
   "language": "python",
   "name": "python3"
  },
  "language_info": {
   "codemirror_mode": {
    "name": "ipython",
    "version": 3
   },
   "file_extension": ".py",
   "mimetype": "text/x-python",
   "name": "python",
   "nbconvert_exporter": "python",
   "pygments_lexer": "ipython3",
   "version": "3.9.13"
  }
 },
 "nbformat": 4,
 "nbformat_minor": 5
}
